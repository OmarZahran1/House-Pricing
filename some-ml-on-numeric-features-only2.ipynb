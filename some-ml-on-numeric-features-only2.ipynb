{
 "cells": [
  {
   "cell_type": "code",
   "execution_count": 1,
   "id": "71c51ea8",
   "metadata": {
    "_cell_guid": "b1076dfc-b9ad-4769-8c92-a6c4dae69d19",
    "_uuid": "8f2839f25d086af736a60e9eeb907d3b93b6e0e5",
    "execution": {
     "iopub.execute_input": "2022-02-27T15:24:30.563154Z",
     "iopub.status.busy": "2022-02-27T15:24:30.561329Z",
     "iopub.status.idle": "2022-02-27T15:24:30.572186Z",
     "shell.execute_reply": "2022-02-27T15:24:30.573031Z",
     "shell.execute_reply.started": "2022-02-27T15:01:41.540448Z"
    },
    "papermill": {
     "duration": 0.098216,
     "end_time": "2022-02-27T15:24:30.573457",
     "exception": false,
     "start_time": "2022-02-27T15:24:30.475241",
     "status": "completed"
    },
    "tags": []
   },
   "outputs": [
    {
     "name": "stdout",
     "output_type": "stream",
     "text": [
      "/kaggle/input/house-prices-advanced-regression-techniques/sample_submission.csv\n",
      "/kaggle/input/house-prices-advanced-regression-techniques/data_description.txt\n",
      "/kaggle/input/house-prices-advanced-regression-techniques/train.csv\n",
      "/kaggle/input/house-prices-advanced-regression-techniques/test.csv\n"
     ]
    }
   ],
   "source": [
    "# This Python 3 environment comes with many helpful analytics libraries installed\n",
    "# It is defined by the kaggle/python Docker image: https://github.com/kaggle/docker-python\n",
    "# For example, here's several helpful packages to load\n",
    "\n",
    "import numpy as np # linear algebra\n",
    "import pandas as pd # data processing, CSV file I/O (e.g. pd.read_csv)\n",
    "\n",
    "# Input data files are available in the read-only \"../input/\" directory\n",
    "# For example, running this (by clicking run or pressing Shift+Enter) will list all files under the input directory\n",
    "\n",
    "import os\n",
    "for dirname, _, filenames in os.walk('/kaggle/input'):\n",
    "    for filename in filenames:\n",
    "        print(os.path.join(dirname, filename))\n",
    "\n",
    "# You can write up to 20GB to the current directory (/kaggle/working/) that gets preserved as output when you create a version using \"Save & Run All\" \n",
    "# You can also write temporary files to /kaggle/temp/, but they won't be saved outside of the current session"
   ]
  },
  {
   "cell_type": "code",
   "execution_count": 2,
   "id": "419304df",
   "metadata": {
    "execution": {
     "iopub.execute_input": "2022-02-27T15:24:30.704359Z",
     "iopub.status.busy": "2022-02-27T15:24:30.703419Z",
     "iopub.status.idle": "2022-02-27T15:24:30.765528Z",
     "shell.execute_reply": "2022-02-27T15:24:30.764958Z",
     "shell.execute_reply.started": "2022-02-27T15:01:41.551758Z"
    },
    "papermill": {
     "duration": 0.122084,
     "end_time": "2022-02-27T15:24:30.765697",
     "exception": false,
     "start_time": "2022-02-27T15:24:30.643613",
     "status": "completed"
    },
    "tags": []
   },
   "outputs": [],
   "source": [
    "house_train = pd.read_csv('/kaggle/input/house-prices-advanced-regression-techniques/train.csv')\n",
    "house_test = pd.read_csv('/kaggle/input/house-prices-advanced-regression-techniques/test.csv')"
   ]
  },
  {
   "cell_type": "code",
   "execution_count": 3,
   "id": "b53b3a4d",
   "metadata": {
    "execution": {
     "iopub.execute_input": "2022-02-27T15:24:30.883286Z",
     "iopub.status.busy": "2022-02-27T15:24:30.882655Z",
     "iopub.status.idle": "2022-02-27T15:24:30.892468Z",
     "shell.execute_reply": "2022-02-27T15:24:30.892973Z",
     "shell.execute_reply.started": "2022-02-27T15:01:41.609866Z"
    },
    "papermill": {
     "duration": 0.070103,
     "end_time": "2022-02-27T15:24:30.893163",
     "exception": false,
     "start_time": "2022-02-27T15:24:30.823060",
     "status": "completed"
    },
    "tags": []
   },
   "outputs": [],
   "source": [
    "test_id = house_test['Id']"
   ]
  },
  {
   "cell_type": "code",
   "execution_count": 4,
   "id": "8fde4e9d",
   "metadata": {
    "execution": {
     "iopub.execute_input": "2022-02-27T15:24:31.019095Z",
     "iopub.status.busy": "2022-02-27T15:24:31.018429Z",
     "iopub.status.idle": "2022-02-27T15:24:31.048745Z",
     "shell.execute_reply": "2022-02-27T15:24:31.049200Z",
     "shell.execute_reply.started": "2022-02-27T15:01:41.616418Z"
    },
    "papermill": {
     "duration": 0.098701,
     "end_time": "2022-02-27T15:24:31.049389",
     "exception": false,
     "start_time": "2022-02-27T15:24:30.950688",
     "status": "completed"
    },
    "tags": []
   },
   "outputs": [
    {
     "data": {
      "text/html": [
       "<div>\n",
       "<style scoped>\n",
       "    .dataframe tbody tr th:only-of-type {\n",
       "        vertical-align: middle;\n",
       "    }\n",
       "\n",
       "    .dataframe tbody tr th {\n",
       "        vertical-align: top;\n",
       "    }\n",
       "\n",
       "    .dataframe thead th {\n",
       "        text-align: right;\n",
       "    }\n",
       "</style>\n",
       "<table border=\"1\" class=\"dataframe\">\n",
       "  <thead>\n",
       "    <tr style=\"text-align: right;\">\n",
       "      <th></th>\n",
       "      <th>Id</th>\n",
       "      <th>MSSubClass</th>\n",
       "      <th>MSZoning</th>\n",
       "      <th>LotFrontage</th>\n",
       "      <th>LotArea</th>\n",
       "      <th>Street</th>\n",
       "      <th>Alley</th>\n",
       "      <th>LotShape</th>\n",
       "      <th>LandContour</th>\n",
       "      <th>Utilities</th>\n",
       "      <th>...</th>\n",
       "      <th>PoolArea</th>\n",
       "      <th>PoolQC</th>\n",
       "      <th>Fence</th>\n",
       "      <th>MiscFeature</th>\n",
       "      <th>MiscVal</th>\n",
       "      <th>MoSold</th>\n",
       "      <th>YrSold</th>\n",
       "      <th>SaleType</th>\n",
       "      <th>SaleCondition</th>\n",
       "      <th>SalePrice</th>\n",
       "    </tr>\n",
       "  </thead>\n",
       "  <tbody>\n",
       "    <tr>\n",
       "      <th>0</th>\n",
       "      <td>1</td>\n",
       "      <td>60</td>\n",
       "      <td>RL</td>\n",
       "      <td>65.0</td>\n",
       "      <td>8450</td>\n",
       "      <td>Pave</td>\n",
       "      <td>NaN</td>\n",
       "      <td>Reg</td>\n",
       "      <td>Lvl</td>\n",
       "      <td>AllPub</td>\n",
       "      <td>...</td>\n",
       "      <td>0</td>\n",
       "      <td>NaN</td>\n",
       "      <td>NaN</td>\n",
       "      <td>NaN</td>\n",
       "      <td>0</td>\n",
       "      <td>2</td>\n",
       "      <td>2008</td>\n",
       "      <td>WD</td>\n",
       "      <td>Normal</td>\n",
       "      <td>208500</td>\n",
       "    </tr>\n",
       "    <tr>\n",
       "      <th>1</th>\n",
       "      <td>2</td>\n",
       "      <td>20</td>\n",
       "      <td>RL</td>\n",
       "      <td>80.0</td>\n",
       "      <td>9600</td>\n",
       "      <td>Pave</td>\n",
       "      <td>NaN</td>\n",
       "      <td>Reg</td>\n",
       "      <td>Lvl</td>\n",
       "      <td>AllPub</td>\n",
       "      <td>...</td>\n",
       "      <td>0</td>\n",
       "      <td>NaN</td>\n",
       "      <td>NaN</td>\n",
       "      <td>NaN</td>\n",
       "      <td>0</td>\n",
       "      <td>5</td>\n",
       "      <td>2007</td>\n",
       "      <td>WD</td>\n",
       "      <td>Normal</td>\n",
       "      <td>181500</td>\n",
       "    </tr>\n",
       "    <tr>\n",
       "      <th>2</th>\n",
       "      <td>3</td>\n",
       "      <td>60</td>\n",
       "      <td>RL</td>\n",
       "      <td>68.0</td>\n",
       "      <td>11250</td>\n",
       "      <td>Pave</td>\n",
       "      <td>NaN</td>\n",
       "      <td>IR1</td>\n",
       "      <td>Lvl</td>\n",
       "      <td>AllPub</td>\n",
       "      <td>...</td>\n",
       "      <td>0</td>\n",
       "      <td>NaN</td>\n",
       "      <td>NaN</td>\n",
       "      <td>NaN</td>\n",
       "      <td>0</td>\n",
       "      <td>9</td>\n",
       "      <td>2008</td>\n",
       "      <td>WD</td>\n",
       "      <td>Normal</td>\n",
       "      <td>223500</td>\n",
       "    </tr>\n",
       "    <tr>\n",
       "      <th>3</th>\n",
       "      <td>4</td>\n",
       "      <td>70</td>\n",
       "      <td>RL</td>\n",
       "      <td>60.0</td>\n",
       "      <td>9550</td>\n",
       "      <td>Pave</td>\n",
       "      <td>NaN</td>\n",
       "      <td>IR1</td>\n",
       "      <td>Lvl</td>\n",
       "      <td>AllPub</td>\n",
       "      <td>...</td>\n",
       "      <td>0</td>\n",
       "      <td>NaN</td>\n",
       "      <td>NaN</td>\n",
       "      <td>NaN</td>\n",
       "      <td>0</td>\n",
       "      <td>2</td>\n",
       "      <td>2006</td>\n",
       "      <td>WD</td>\n",
       "      <td>Abnorml</td>\n",
       "      <td>140000</td>\n",
       "    </tr>\n",
       "    <tr>\n",
       "      <th>4</th>\n",
       "      <td>5</td>\n",
       "      <td>60</td>\n",
       "      <td>RL</td>\n",
       "      <td>84.0</td>\n",
       "      <td>14260</td>\n",
       "      <td>Pave</td>\n",
       "      <td>NaN</td>\n",
       "      <td>IR1</td>\n",
       "      <td>Lvl</td>\n",
       "      <td>AllPub</td>\n",
       "      <td>...</td>\n",
       "      <td>0</td>\n",
       "      <td>NaN</td>\n",
       "      <td>NaN</td>\n",
       "      <td>NaN</td>\n",
       "      <td>0</td>\n",
       "      <td>12</td>\n",
       "      <td>2008</td>\n",
       "      <td>WD</td>\n",
       "      <td>Normal</td>\n",
       "      <td>250000</td>\n",
       "    </tr>\n",
       "    <tr>\n",
       "      <th>...</th>\n",
       "      <td>...</td>\n",
       "      <td>...</td>\n",
       "      <td>...</td>\n",
       "      <td>...</td>\n",
       "      <td>...</td>\n",
       "      <td>...</td>\n",
       "      <td>...</td>\n",
       "      <td>...</td>\n",
       "      <td>...</td>\n",
       "      <td>...</td>\n",
       "      <td>...</td>\n",
       "      <td>...</td>\n",
       "      <td>...</td>\n",
       "      <td>...</td>\n",
       "      <td>...</td>\n",
       "      <td>...</td>\n",
       "      <td>...</td>\n",
       "      <td>...</td>\n",
       "      <td>...</td>\n",
       "      <td>...</td>\n",
       "      <td>...</td>\n",
       "    </tr>\n",
       "    <tr>\n",
       "      <th>1455</th>\n",
       "      <td>1456</td>\n",
       "      <td>60</td>\n",
       "      <td>RL</td>\n",
       "      <td>62.0</td>\n",
       "      <td>7917</td>\n",
       "      <td>Pave</td>\n",
       "      <td>NaN</td>\n",
       "      <td>Reg</td>\n",
       "      <td>Lvl</td>\n",
       "      <td>AllPub</td>\n",
       "      <td>...</td>\n",
       "      <td>0</td>\n",
       "      <td>NaN</td>\n",
       "      <td>NaN</td>\n",
       "      <td>NaN</td>\n",
       "      <td>0</td>\n",
       "      <td>8</td>\n",
       "      <td>2007</td>\n",
       "      <td>WD</td>\n",
       "      <td>Normal</td>\n",
       "      <td>175000</td>\n",
       "    </tr>\n",
       "    <tr>\n",
       "      <th>1456</th>\n",
       "      <td>1457</td>\n",
       "      <td>20</td>\n",
       "      <td>RL</td>\n",
       "      <td>85.0</td>\n",
       "      <td>13175</td>\n",
       "      <td>Pave</td>\n",
       "      <td>NaN</td>\n",
       "      <td>Reg</td>\n",
       "      <td>Lvl</td>\n",
       "      <td>AllPub</td>\n",
       "      <td>...</td>\n",
       "      <td>0</td>\n",
       "      <td>NaN</td>\n",
       "      <td>MnPrv</td>\n",
       "      <td>NaN</td>\n",
       "      <td>0</td>\n",
       "      <td>2</td>\n",
       "      <td>2010</td>\n",
       "      <td>WD</td>\n",
       "      <td>Normal</td>\n",
       "      <td>210000</td>\n",
       "    </tr>\n",
       "    <tr>\n",
       "      <th>1457</th>\n",
       "      <td>1458</td>\n",
       "      <td>70</td>\n",
       "      <td>RL</td>\n",
       "      <td>66.0</td>\n",
       "      <td>9042</td>\n",
       "      <td>Pave</td>\n",
       "      <td>NaN</td>\n",
       "      <td>Reg</td>\n",
       "      <td>Lvl</td>\n",
       "      <td>AllPub</td>\n",
       "      <td>...</td>\n",
       "      <td>0</td>\n",
       "      <td>NaN</td>\n",
       "      <td>GdPrv</td>\n",
       "      <td>Shed</td>\n",
       "      <td>2500</td>\n",
       "      <td>5</td>\n",
       "      <td>2010</td>\n",
       "      <td>WD</td>\n",
       "      <td>Normal</td>\n",
       "      <td>266500</td>\n",
       "    </tr>\n",
       "    <tr>\n",
       "      <th>1458</th>\n",
       "      <td>1459</td>\n",
       "      <td>20</td>\n",
       "      <td>RL</td>\n",
       "      <td>68.0</td>\n",
       "      <td>9717</td>\n",
       "      <td>Pave</td>\n",
       "      <td>NaN</td>\n",
       "      <td>Reg</td>\n",
       "      <td>Lvl</td>\n",
       "      <td>AllPub</td>\n",
       "      <td>...</td>\n",
       "      <td>0</td>\n",
       "      <td>NaN</td>\n",
       "      <td>NaN</td>\n",
       "      <td>NaN</td>\n",
       "      <td>0</td>\n",
       "      <td>4</td>\n",
       "      <td>2010</td>\n",
       "      <td>WD</td>\n",
       "      <td>Normal</td>\n",
       "      <td>142125</td>\n",
       "    </tr>\n",
       "    <tr>\n",
       "      <th>1459</th>\n",
       "      <td>1460</td>\n",
       "      <td>20</td>\n",
       "      <td>RL</td>\n",
       "      <td>75.0</td>\n",
       "      <td>9937</td>\n",
       "      <td>Pave</td>\n",
       "      <td>NaN</td>\n",
       "      <td>Reg</td>\n",
       "      <td>Lvl</td>\n",
       "      <td>AllPub</td>\n",
       "      <td>...</td>\n",
       "      <td>0</td>\n",
       "      <td>NaN</td>\n",
       "      <td>NaN</td>\n",
       "      <td>NaN</td>\n",
       "      <td>0</td>\n",
       "      <td>6</td>\n",
       "      <td>2008</td>\n",
       "      <td>WD</td>\n",
       "      <td>Normal</td>\n",
       "      <td>147500</td>\n",
       "    </tr>\n",
       "  </tbody>\n",
       "</table>\n",
       "<p>1460 rows × 81 columns</p>\n",
       "</div>"
      ],
      "text/plain": [
       "        Id  MSSubClass MSZoning  LotFrontage  LotArea Street Alley LotShape  \\\n",
       "0        1          60       RL         65.0     8450   Pave   NaN      Reg   \n",
       "1        2          20       RL         80.0     9600   Pave   NaN      Reg   \n",
       "2        3          60       RL         68.0    11250   Pave   NaN      IR1   \n",
       "3        4          70       RL         60.0     9550   Pave   NaN      IR1   \n",
       "4        5          60       RL         84.0    14260   Pave   NaN      IR1   \n",
       "...    ...         ...      ...          ...      ...    ...   ...      ...   \n",
       "1455  1456          60       RL         62.0     7917   Pave   NaN      Reg   \n",
       "1456  1457          20       RL         85.0    13175   Pave   NaN      Reg   \n",
       "1457  1458          70       RL         66.0     9042   Pave   NaN      Reg   \n",
       "1458  1459          20       RL         68.0     9717   Pave   NaN      Reg   \n",
       "1459  1460          20       RL         75.0     9937   Pave   NaN      Reg   \n",
       "\n",
       "     LandContour Utilities  ... PoolArea PoolQC  Fence MiscFeature MiscVal  \\\n",
       "0            Lvl    AllPub  ...        0    NaN    NaN         NaN       0   \n",
       "1            Lvl    AllPub  ...        0    NaN    NaN         NaN       0   \n",
       "2            Lvl    AllPub  ...        0    NaN    NaN         NaN       0   \n",
       "3            Lvl    AllPub  ...        0    NaN    NaN         NaN       0   \n",
       "4            Lvl    AllPub  ...        0    NaN    NaN         NaN       0   \n",
       "...          ...       ...  ...      ...    ...    ...         ...     ...   \n",
       "1455         Lvl    AllPub  ...        0    NaN    NaN         NaN       0   \n",
       "1456         Lvl    AllPub  ...        0    NaN  MnPrv         NaN       0   \n",
       "1457         Lvl    AllPub  ...        0    NaN  GdPrv        Shed    2500   \n",
       "1458         Lvl    AllPub  ...        0    NaN    NaN         NaN       0   \n",
       "1459         Lvl    AllPub  ...        0    NaN    NaN         NaN       0   \n",
       "\n",
       "     MoSold YrSold  SaleType  SaleCondition  SalePrice  \n",
       "0         2   2008        WD         Normal     208500  \n",
       "1         5   2007        WD         Normal     181500  \n",
       "2         9   2008        WD         Normal     223500  \n",
       "3         2   2006        WD        Abnorml     140000  \n",
       "4        12   2008        WD         Normal     250000  \n",
       "...     ...    ...       ...            ...        ...  \n",
       "1455      8   2007        WD         Normal     175000  \n",
       "1456      2   2010        WD         Normal     210000  \n",
       "1457      5   2010        WD         Normal     266500  \n",
       "1458      4   2010        WD         Normal     142125  \n",
       "1459      6   2008        WD         Normal     147500  \n",
       "\n",
       "[1460 rows x 81 columns]"
      ]
     },
     "execution_count": 4,
     "metadata": {},
     "output_type": "execute_result"
    }
   ],
   "source": [
    "house_train"
   ]
  },
  {
   "cell_type": "code",
   "execution_count": 5,
   "id": "29fb50eb",
   "metadata": {
    "execution": {
     "iopub.execute_input": "2022-02-27T15:24:31.178879Z",
     "iopub.status.busy": "2022-02-27T15:24:31.178175Z",
     "iopub.status.idle": "2022-02-27T15:24:31.226627Z",
     "shell.execute_reply": "2022-02-27T15:24:31.226070Z",
     "shell.execute_reply.started": "2022-02-27T15:01:41.661448Z"
    },
    "papermill": {
     "duration": 0.11849,
     "end_time": "2022-02-27T15:24:31.226766",
     "exception": false,
     "start_time": "2022-02-27T15:24:31.108276",
     "status": "completed"
    },
    "tags": []
   },
   "outputs": [],
   "source": [
    "#Assigning numerical values for nominial train data\n",
    "Numlist1 = ['BsmtQual','BsmtCond', 'FireplaceQu','GarageQual', 'GarageCond']\n",
    "Numlist2 = ['BsmtExposure']\n",
    "Numlist3 = ['BsmtFinType1' , 'BsmtFinType2']\n",
    "Numlist4 = ['PoolQC']\n",
    "Numlist5 = ['Fence']\n",
    "Numlist6 = ['ExterQual','ExterCond','HeatingQC', 'KitchenQual']\n",
    "Numlist7 = ['LotShape']\n",
    "Numlist8 = ['LandSlope']\n",
    "Numlist9 = ['Functional']\n",
    "Numlist10 = ['GarageFinish']\n",
    "def numeric_map1(x):\n",
    "    return x.map({'Po' : 1 ,'Fa' : 2 , 'TA' : 3 , 'Gd' : 4 , 'Ex' : 5 , np.nan : 0})\n",
    "def numeric_map2(y):\n",
    "    return y.map({'No' : 1 ,'Mn' : 2 , 'Av' : 3 , 'Gd' : 4 , np.nan : 0})\n",
    "def numeric_map3(z):\n",
    "    return z.map({'Unf' : 1 ,'LwQ' : 2 , 'Rec' : 3 , 'BLQ' : 4 ,'ALQ': 5, 'GLQ': 6, np.nan : 0})\n",
    "def numeric_map4(a):\n",
    "    return a.map({'Fa' : 1 ,'TA' : 2 , 'Gd' : 3 , 'Ex' : 4 , np.nan : 0})\n",
    "def numeric_map5(b):\n",
    "    return b.map({'MnWw' : 1 ,'GdWo' : 2 , 'MnPrv' : 3 , 'GdPrv' : 4 , np.nan : 0})\n",
    "def numeric_map6(c):\n",
    "    return c.map({'Po' : 1 ,'Fa' : 2 , 'TA' : 3 , 'Gd' : 4 , 'Ex' : 5 })\n",
    "def numeric_map7(d):\n",
    "    return d.map({'IR3' : 1 ,'IR2' : 2 , 'IR1' : 3 , 'Reg' : 4 })\n",
    "def numeric_map8(e):\n",
    "    return e.map({'Sev' : 1 ,'Mod' : 2 , 'Gtl' : 3 })\n",
    "def numeric_map9(f):\n",
    "    return f.map({'Sal' : 1 ,'Sev' : 2 , 'Maj2' : 3 ,'Maj1' : 4, 'Mod' : 5, 'Min2' : 6 , 'Min1' : 7, 'Typ' : 8})\n",
    "def numeric_map10(g):\n",
    "    return g.map({'Unf' : 1 ,'RFn' : 2 , 'Fin' : 3 , np.nan : 0})\n",
    "house_train[Numlist1] = house_train[Numlist1].apply(numeric_map1)\n",
    "house_train[Numlist2] = house_train[Numlist2].apply(numeric_map2)\n",
    "house_train[Numlist3] = house_train[Numlist3].apply(numeric_map3)\n",
    "house_train[Numlist4] = house_train[Numlist4].apply(numeric_map4)\n",
    "house_train[Numlist5] = house_train[Numlist5].apply(numeric_map5)\n",
    "house_train[Numlist6] = house_train[Numlist6].apply(numeric_map6)\n",
    "house_train[Numlist7] = house_train[Numlist7].apply(numeric_map7)\n",
    "house_train[Numlist8] = house_train[Numlist8].apply(numeric_map8)\n",
    "house_train[Numlist9] = house_train[Numlist9].apply(numeric_map9)\n",
    "house_train[Numlist10] = house_train[Numlist10].apply(numeric_map10)"
   ]
  },
  {
   "cell_type": "code",
   "execution_count": 6,
   "id": "09959dd5",
   "metadata": {
    "execution": {
     "iopub.execute_input": "2022-02-27T15:24:31.350863Z",
     "iopub.status.busy": "2022-02-27T15:24:31.349805Z",
     "iopub.status.idle": "2022-02-27T15:24:31.373496Z",
     "shell.execute_reply": "2022-02-27T15:24:31.373950Z",
     "shell.execute_reply.started": "2022-02-27T15:01:41.724333Z"
    },
    "papermill": {
     "duration": 0.089514,
     "end_time": "2022-02-27T15:24:31.374127",
     "exception": false,
     "start_time": "2022-02-27T15:24:31.284613",
     "status": "completed"
    },
    "tags": []
   },
   "outputs": [
    {
     "data": {
      "text/html": [
       "<div>\n",
       "<style scoped>\n",
       "    .dataframe tbody tr th:only-of-type {\n",
       "        vertical-align: middle;\n",
       "    }\n",
       "\n",
       "    .dataframe tbody tr th {\n",
       "        vertical-align: top;\n",
       "    }\n",
       "\n",
       "    .dataframe thead th {\n",
       "        text-align: right;\n",
       "    }\n",
       "</style>\n",
       "<table border=\"1\" class=\"dataframe\">\n",
       "  <thead>\n",
       "    <tr style=\"text-align: right;\">\n",
       "      <th></th>\n",
       "      <th>Id</th>\n",
       "      <th>MSSubClass</th>\n",
       "      <th>MSZoning</th>\n",
       "      <th>LotFrontage</th>\n",
       "      <th>LotArea</th>\n",
       "      <th>Street</th>\n",
       "      <th>Alley</th>\n",
       "      <th>LotShape</th>\n",
       "      <th>LandContour</th>\n",
       "      <th>Utilities</th>\n",
       "      <th>...</th>\n",
       "      <th>PoolArea</th>\n",
       "      <th>PoolQC</th>\n",
       "      <th>Fence</th>\n",
       "      <th>MiscFeature</th>\n",
       "      <th>MiscVal</th>\n",
       "      <th>MoSold</th>\n",
       "      <th>YrSold</th>\n",
       "      <th>SaleType</th>\n",
       "      <th>SaleCondition</th>\n",
       "      <th>SalePrice</th>\n",
       "    </tr>\n",
       "  </thead>\n",
       "  <tbody>\n",
       "    <tr>\n",
       "      <th>0</th>\n",
       "      <td>1</td>\n",
       "      <td>60</td>\n",
       "      <td>RL</td>\n",
       "      <td>65.0</td>\n",
       "      <td>8450</td>\n",
       "      <td>Pave</td>\n",
       "      <td>NaN</td>\n",
       "      <td>4</td>\n",
       "      <td>Lvl</td>\n",
       "      <td>AllPub</td>\n",
       "      <td>...</td>\n",
       "      <td>0</td>\n",
       "      <td>0</td>\n",
       "      <td>0</td>\n",
       "      <td>NaN</td>\n",
       "      <td>0</td>\n",
       "      <td>2</td>\n",
       "      <td>2008</td>\n",
       "      <td>WD</td>\n",
       "      <td>Normal</td>\n",
       "      <td>208500</td>\n",
       "    </tr>\n",
       "    <tr>\n",
       "      <th>1</th>\n",
       "      <td>2</td>\n",
       "      <td>20</td>\n",
       "      <td>RL</td>\n",
       "      <td>80.0</td>\n",
       "      <td>9600</td>\n",
       "      <td>Pave</td>\n",
       "      <td>NaN</td>\n",
       "      <td>4</td>\n",
       "      <td>Lvl</td>\n",
       "      <td>AllPub</td>\n",
       "      <td>...</td>\n",
       "      <td>0</td>\n",
       "      <td>0</td>\n",
       "      <td>0</td>\n",
       "      <td>NaN</td>\n",
       "      <td>0</td>\n",
       "      <td>5</td>\n",
       "      <td>2007</td>\n",
       "      <td>WD</td>\n",
       "      <td>Normal</td>\n",
       "      <td>181500</td>\n",
       "    </tr>\n",
       "    <tr>\n",
       "      <th>2</th>\n",
       "      <td>3</td>\n",
       "      <td>60</td>\n",
       "      <td>RL</td>\n",
       "      <td>68.0</td>\n",
       "      <td>11250</td>\n",
       "      <td>Pave</td>\n",
       "      <td>NaN</td>\n",
       "      <td>3</td>\n",
       "      <td>Lvl</td>\n",
       "      <td>AllPub</td>\n",
       "      <td>...</td>\n",
       "      <td>0</td>\n",
       "      <td>0</td>\n",
       "      <td>0</td>\n",
       "      <td>NaN</td>\n",
       "      <td>0</td>\n",
       "      <td>9</td>\n",
       "      <td>2008</td>\n",
       "      <td>WD</td>\n",
       "      <td>Normal</td>\n",
       "      <td>223500</td>\n",
       "    </tr>\n",
       "    <tr>\n",
       "      <th>3</th>\n",
       "      <td>4</td>\n",
       "      <td>70</td>\n",
       "      <td>RL</td>\n",
       "      <td>60.0</td>\n",
       "      <td>9550</td>\n",
       "      <td>Pave</td>\n",
       "      <td>NaN</td>\n",
       "      <td>3</td>\n",
       "      <td>Lvl</td>\n",
       "      <td>AllPub</td>\n",
       "      <td>...</td>\n",
       "      <td>0</td>\n",
       "      <td>0</td>\n",
       "      <td>0</td>\n",
       "      <td>NaN</td>\n",
       "      <td>0</td>\n",
       "      <td>2</td>\n",
       "      <td>2006</td>\n",
       "      <td>WD</td>\n",
       "      <td>Abnorml</td>\n",
       "      <td>140000</td>\n",
       "    </tr>\n",
       "    <tr>\n",
       "      <th>4</th>\n",
       "      <td>5</td>\n",
       "      <td>60</td>\n",
       "      <td>RL</td>\n",
       "      <td>84.0</td>\n",
       "      <td>14260</td>\n",
       "      <td>Pave</td>\n",
       "      <td>NaN</td>\n",
       "      <td>3</td>\n",
       "      <td>Lvl</td>\n",
       "      <td>AllPub</td>\n",
       "      <td>...</td>\n",
       "      <td>0</td>\n",
       "      <td>0</td>\n",
       "      <td>0</td>\n",
       "      <td>NaN</td>\n",
       "      <td>0</td>\n",
       "      <td>12</td>\n",
       "      <td>2008</td>\n",
       "      <td>WD</td>\n",
       "      <td>Normal</td>\n",
       "      <td>250000</td>\n",
       "    </tr>\n",
       "    <tr>\n",
       "      <th>...</th>\n",
       "      <td>...</td>\n",
       "      <td>...</td>\n",
       "      <td>...</td>\n",
       "      <td>...</td>\n",
       "      <td>...</td>\n",
       "      <td>...</td>\n",
       "      <td>...</td>\n",
       "      <td>...</td>\n",
       "      <td>...</td>\n",
       "      <td>...</td>\n",
       "      <td>...</td>\n",
       "      <td>...</td>\n",
       "      <td>...</td>\n",
       "      <td>...</td>\n",
       "      <td>...</td>\n",
       "      <td>...</td>\n",
       "      <td>...</td>\n",
       "      <td>...</td>\n",
       "      <td>...</td>\n",
       "      <td>...</td>\n",
       "      <td>...</td>\n",
       "    </tr>\n",
       "    <tr>\n",
       "      <th>1455</th>\n",
       "      <td>1456</td>\n",
       "      <td>60</td>\n",
       "      <td>RL</td>\n",
       "      <td>62.0</td>\n",
       "      <td>7917</td>\n",
       "      <td>Pave</td>\n",
       "      <td>NaN</td>\n",
       "      <td>4</td>\n",
       "      <td>Lvl</td>\n",
       "      <td>AllPub</td>\n",
       "      <td>...</td>\n",
       "      <td>0</td>\n",
       "      <td>0</td>\n",
       "      <td>0</td>\n",
       "      <td>NaN</td>\n",
       "      <td>0</td>\n",
       "      <td>8</td>\n",
       "      <td>2007</td>\n",
       "      <td>WD</td>\n",
       "      <td>Normal</td>\n",
       "      <td>175000</td>\n",
       "    </tr>\n",
       "    <tr>\n",
       "      <th>1456</th>\n",
       "      <td>1457</td>\n",
       "      <td>20</td>\n",
       "      <td>RL</td>\n",
       "      <td>85.0</td>\n",
       "      <td>13175</td>\n",
       "      <td>Pave</td>\n",
       "      <td>NaN</td>\n",
       "      <td>4</td>\n",
       "      <td>Lvl</td>\n",
       "      <td>AllPub</td>\n",
       "      <td>...</td>\n",
       "      <td>0</td>\n",
       "      <td>0</td>\n",
       "      <td>3</td>\n",
       "      <td>NaN</td>\n",
       "      <td>0</td>\n",
       "      <td>2</td>\n",
       "      <td>2010</td>\n",
       "      <td>WD</td>\n",
       "      <td>Normal</td>\n",
       "      <td>210000</td>\n",
       "    </tr>\n",
       "    <tr>\n",
       "      <th>1457</th>\n",
       "      <td>1458</td>\n",
       "      <td>70</td>\n",
       "      <td>RL</td>\n",
       "      <td>66.0</td>\n",
       "      <td>9042</td>\n",
       "      <td>Pave</td>\n",
       "      <td>NaN</td>\n",
       "      <td>4</td>\n",
       "      <td>Lvl</td>\n",
       "      <td>AllPub</td>\n",
       "      <td>...</td>\n",
       "      <td>0</td>\n",
       "      <td>0</td>\n",
       "      <td>4</td>\n",
       "      <td>Shed</td>\n",
       "      <td>2500</td>\n",
       "      <td>5</td>\n",
       "      <td>2010</td>\n",
       "      <td>WD</td>\n",
       "      <td>Normal</td>\n",
       "      <td>266500</td>\n",
       "    </tr>\n",
       "    <tr>\n",
       "      <th>1458</th>\n",
       "      <td>1459</td>\n",
       "      <td>20</td>\n",
       "      <td>RL</td>\n",
       "      <td>68.0</td>\n",
       "      <td>9717</td>\n",
       "      <td>Pave</td>\n",
       "      <td>NaN</td>\n",
       "      <td>4</td>\n",
       "      <td>Lvl</td>\n",
       "      <td>AllPub</td>\n",
       "      <td>...</td>\n",
       "      <td>0</td>\n",
       "      <td>0</td>\n",
       "      <td>0</td>\n",
       "      <td>NaN</td>\n",
       "      <td>0</td>\n",
       "      <td>4</td>\n",
       "      <td>2010</td>\n",
       "      <td>WD</td>\n",
       "      <td>Normal</td>\n",
       "      <td>142125</td>\n",
       "    </tr>\n",
       "    <tr>\n",
       "      <th>1459</th>\n",
       "      <td>1460</td>\n",
       "      <td>20</td>\n",
       "      <td>RL</td>\n",
       "      <td>75.0</td>\n",
       "      <td>9937</td>\n",
       "      <td>Pave</td>\n",
       "      <td>NaN</td>\n",
       "      <td>4</td>\n",
       "      <td>Lvl</td>\n",
       "      <td>AllPub</td>\n",
       "      <td>...</td>\n",
       "      <td>0</td>\n",
       "      <td>0</td>\n",
       "      <td>0</td>\n",
       "      <td>NaN</td>\n",
       "      <td>0</td>\n",
       "      <td>6</td>\n",
       "      <td>2008</td>\n",
       "      <td>WD</td>\n",
       "      <td>Normal</td>\n",
       "      <td>147500</td>\n",
       "    </tr>\n",
       "  </tbody>\n",
       "</table>\n",
       "<p>1460 rows × 81 columns</p>\n",
       "</div>"
      ],
      "text/plain": [
       "        Id  MSSubClass MSZoning  LotFrontage  LotArea Street Alley  LotShape  \\\n",
       "0        1          60       RL         65.0     8450   Pave   NaN         4   \n",
       "1        2          20       RL         80.0     9600   Pave   NaN         4   \n",
       "2        3          60       RL         68.0    11250   Pave   NaN         3   \n",
       "3        4          70       RL         60.0     9550   Pave   NaN         3   \n",
       "4        5          60       RL         84.0    14260   Pave   NaN         3   \n",
       "...    ...         ...      ...          ...      ...    ...   ...       ...   \n",
       "1455  1456          60       RL         62.0     7917   Pave   NaN         4   \n",
       "1456  1457          20       RL         85.0    13175   Pave   NaN         4   \n",
       "1457  1458          70       RL         66.0     9042   Pave   NaN         4   \n",
       "1458  1459          20       RL         68.0     9717   Pave   NaN         4   \n",
       "1459  1460          20       RL         75.0     9937   Pave   NaN         4   \n",
       "\n",
       "     LandContour Utilities  ... PoolArea  PoolQC Fence MiscFeature MiscVal  \\\n",
       "0            Lvl    AllPub  ...        0       0     0         NaN       0   \n",
       "1            Lvl    AllPub  ...        0       0     0         NaN       0   \n",
       "2            Lvl    AllPub  ...        0       0     0         NaN       0   \n",
       "3            Lvl    AllPub  ...        0       0     0         NaN       0   \n",
       "4            Lvl    AllPub  ...        0       0     0         NaN       0   \n",
       "...          ...       ...  ...      ...     ...   ...         ...     ...   \n",
       "1455         Lvl    AllPub  ...        0       0     0         NaN       0   \n",
       "1456         Lvl    AllPub  ...        0       0     3         NaN       0   \n",
       "1457         Lvl    AllPub  ...        0       0     4        Shed    2500   \n",
       "1458         Lvl    AllPub  ...        0       0     0         NaN       0   \n",
       "1459         Lvl    AllPub  ...        0       0     0         NaN       0   \n",
       "\n",
       "     MoSold YrSold  SaleType  SaleCondition  SalePrice  \n",
       "0         2   2008        WD         Normal     208500  \n",
       "1         5   2007        WD         Normal     181500  \n",
       "2         9   2008        WD         Normal     223500  \n",
       "3         2   2006        WD        Abnorml     140000  \n",
       "4        12   2008        WD         Normal     250000  \n",
       "...     ...    ...       ...            ...        ...  \n",
       "1455      8   2007        WD         Normal     175000  \n",
       "1456      2   2010        WD         Normal     210000  \n",
       "1457      5   2010        WD         Normal     266500  \n",
       "1458      4   2010        WD         Normal     142125  \n",
       "1459      6   2008        WD         Normal     147500  \n",
       "\n",
       "[1460 rows x 81 columns]"
      ]
     },
     "execution_count": 6,
     "metadata": {},
     "output_type": "execute_result"
    }
   ],
   "source": [
    "house_train"
   ]
  },
  {
   "cell_type": "code",
   "execution_count": 7,
   "id": "b8749a3c",
   "metadata": {
    "execution": {
     "iopub.execute_input": "2022-02-27T15:24:31.497079Z",
     "iopub.status.busy": "2022-02-27T15:24:31.494552Z",
     "iopub.status.idle": "2022-02-27T15:24:31.503205Z",
     "shell.execute_reply": "2022-02-27T15:24:31.502644Z",
     "shell.execute_reply.started": "2022-02-27T15:01:41.758233Z"
    },
    "papermill": {
     "duration": 0.070882,
     "end_time": "2022-02-27T15:24:31.503381",
     "exception": false,
     "start_time": "2022-02-27T15:24:31.432499",
     "status": "completed"
    },
    "tags": []
   },
   "outputs": [],
   "source": [
    "house_train = house_train.drop(['Id'] , axis =1)\n",
    "house_test = house_test.drop(['Id'] , axis =1)"
   ]
  },
  {
   "cell_type": "code",
   "execution_count": 8,
   "id": "a13dd608",
   "metadata": {
    "execution": {
     "iopub.execute_input": "2022-02-27T15:24:31.631013Z",
     "iopub.status.busy": "2022-02-27T15:24:31.629931Z",
     "iopub.status.idle": "2022-02-27T15:24:31.652095Z",
     "shell.execute_reply": "2022-02-27T15:24:31.651427Z",
     "shell.execute_reply.started": "2022-02-27T15:01:41.767238Z"
    },
    "papermill": {
     "duration": 0.088791,
     "end_time": "2022-02-27T15:24:31.652236",
     "exception": false,
     "start_time": "2022-02-27T15:24:31.563445",
     "status": "completed"
    },
    "tags": []
   },
   "outputs": [
    {
     "name": "stdout",
     "output_type": "stream",
     "text": [
      "<class 'pandas.core.frame.DataFrame'>\n",
      "RangeIndex: 1460 entries, 0 to 1459\n",
      "Data columns (total 80 columns):\n",
      " #   Column         Non-Null Count  Dtype  \n",
      "---  ------         --------------  -----  \n",
      " 0   MSSubClass     1460 non-null   int64  \n",
      " 1   MSZoning       1460 non-null   object \n",
      " 2   LotFrontage    1201 non-null   float64\n",
      " 3   LotArea        1460 non-null   int64  \n",
      " 4   Street         1460 non-null   object \n",
      " 5   Alley          91 non-null     object \n",
      " 6   LotShape       1460 non-null   int64  \n",
      " 7   LandContour    1460 non-null   object \n",
      " 8   Utilities      1460 non-null   object \n",
      " 9   LotConfig      1460 non-null   object \n",
      " 10  LandSlope      1460 non-null   int64  \n",
      " 11  Neighborhood   1460 non-null   object \n",
      " 12  Condition1     1460 non-null   object \n",
      " 13  Condition2     1460 non-null   object \n",
      " 14  BldgType       1460 non-null   object \n",
      " 15  HouseStyle     1460 non-null   object \n",
      " 16  OverallQual    1460 non-null   int64  \n",
      " 17  OverallCond    1460 non-null   int64  \n",
      " 18  YearBuilt      1460 non-null   int64  \n",
      " 19  YearRemodAdd   1460 non-null   int64  \n",
      " 20  RoofStyle      1460 non-null   object \n",
      " 21  RoofMatl       1460 non-null   object \n",
      " 22  Exterior1st    1460 non-null   object \n",
      " 23  Exterior2nd    1460 non-null   object \n",
      " 24  MasVnrType     1452 non-null   object \n",
      " 25  MasVnrArea     1452 non-null   float64\n",
      " 26  ExterQual      1460 non-null   int64  \n",
      " 27  ExterCond      1460 non-null   int64  \n",
      " 28  Foundation     1460 non-null   object \n",
      " 29  BsmtQual       1460 non-null   int64  \n",
      " 30  BsmtCond       1460 non-null   int64  \n",
      " 31  BsmtExposure   1460 non-null   int64  \n",
      " 32  BsmtFinType1   1460 non-null   int64  \n",
      " 33  BsmtFinSF1     1460 non-null   int64  \n",
      " 34  BsmtFinType2   1460 non-null   int64  \n",
      " 35  BsmtFinSF2     1460 non-null   int64  \n",
      " 36  BsmtUnfSF      1460 non-null   int64  \n",
      " 37  TotalBsmtSF    1460 non-null   int64  \n",
      " 38  Heating        1460 non-null   object \n",
      " 39  HeatingQC      1460 non-null   int64  \n",
      " 40  CentralAir     1460 non-null   object \n",
      " 41  Electrical     1459 non-null   object \n",
      " 42  1stFlrSF       1460 non-null   int64  \n",
      " 43  2ndFlrSF       1460 non-null   int64  \n",
      " 44  LowQualFinSF   1460 non-null   int64  \n",
      " 45  GrLivArea      1460 non-null   int64  \n",
      " 46  BsmtFullBath   1460 non-null   int64  \n",
      " 47  BsmtHalfBath   1460 non-null   int64  \n",
      " 48  FullBath       1460 non-null   int64  \n",
      " 49  HalfBath       1460 non-null   int64  \n",
      " 50  BedroomAbvGr   1460 non-null   int64  \n",
      " 51  KitchenAbvGr   1460 non-null   int64  \n",
      " 52  KitchenQual    1460 non-null   int64  \n",
      " 53  TotRmsAbvGrd   1460 non-null   int64  \n",
      " 54  Functional     1460 non-null   int64  \n",
      " 55  Fireplaces     1460 non-null   int64  \n",
      " 56  FireplaceQu    1460 non-null   int64  \n",
      " 57  GarageType     1379 non-null   object \n",
      " 58  GarageYrBlt    1379 non-null   float64\n",
      " 59  GarageFinish   1460 non-null   int64  \n",
      " 60  GarageCars     1460 non-null   int64  \n",
      " 61  GarageArea     1460 non-null   int64  \n",
      " 62  GarageQual     1460 non-null   int64  \n",
      " 63  GarageCond     1460 non-null   int64  \n",
      " 64  PavedDrive     1460 non-null   object \n",
      " 65  WoodDeckSF     1460 non-null   int64  \n",
      " 66  OpenPorchSF    1460 non-null   int64  \n",
      " 67  EnclosedPorch  1460 non-null   int64  \n",
      " 68  3SsnPorch      1460 non-null   int64  \n",
      " 69  ScreenPorch    1460 non-null   int64  \n",
      " 70  PoolArea       1460 non-null   int64  \n",
      " 71  PoolQC         1460 non-null   int64  \n",
      " 72  Fence          1460 non-null   int64  \n",
      " 73  MiscFeature    54 non-null     object \n",
      " 74  MiscVal        1460 non-null   int64  \n",
      " 75  MoSold         1460 non-null   int64  \n",
      " 76  YrSold         1460 non-null   int64  \n",
      " 77  SaleType       1460 non-null   object \n",
      " 78  SaleCondition  1460 non-null   object \n",
      " 79  SalePrice      1460 non-null   int64  \n",
      "dtypes: float64(3), int64(52), object(25)\n",
      "memory usage: 912.6+ KB\n"
     ]
    }
   ],
   "source": [
    "house_train.info()"
   ]
  },
  {
   "cell_type": "code",
   "execution_count": 9,
   "id": "ff189c8e",
   "metadata": {
    "execution": {
     "iopub.execute_input": "2022-02-27T15:24:31.775164Z",
     "iopub.status.busy": "2022-02-27T15:24:31.771948Z",
     "iopub.status.idle": "2022-02-27T15:24:31.778764Z",
     "shell.execute_reply": "2022-02-27T15:24:31.778210Z",
     "shell.execute_reply.started": "2022-02-27T15:01:41.801481Z"
    },
    "papermill": {
     "duration": 0.067996,
     "end_time": "2022-02-27T15:24:31.778907",
     "exception": false,
     "start_time": "2022-02-27T15:24:31.710911",
     "status": "completed"
    },
    "tags": []
   },
   "outputs": [
    {
     "data": {
      "text/plain": [
       "True"
      ]
     },
     "execution_count": 9,
     "metadata": {},
     "output_type": "execute_result"
    }
   ],
   "source": [
    "columns = house_train.columns\n",
    "type(list(columns))\n",
    "house_train['Fence'].dtype!= object"
   ]
  },
  {
   "cell_type": "code",
   "execution_count": 10,
   "id": "016714d8",
   "metadata": {
    "execution": {
     "iopub.execute_input": "2022-02-27T15:24:31.901636Z",
     "iopub.status.busy": "2022-02-27T15:24:31.900976Z",
     "iopub.status.idle": "2022-02-27T15:24:31.905979Z",
     "shell.execute_reply": "2022-02-27T15:24:31.906497Z",
     "shell.execute_reply.started": "2022-02-27T15:01:41.808124Z"
    },
    "papermill": {
     "duration": 0.067479,
     "end_time": "2022-02-27T15:24:31.906670",
     "exception": false,
     "start_time": "2022-02-27T15:24:31.839191",
     "status": "completed"
    },
    "tags": []
   },
   "outputs": [
    {
     "data": {
      "text/plain": [
       "Index(['MSSubClass', 'MSZoning', 'LotFrontage', 'LotArea', 'Street', 'Alley',\n",
       "       'LotShape', 'LandContour', 'Utilities', 'LotConfig', 'LandSlope',\n",
       "       'Neighborhood', 'Condition1', 'Condition2', 'BldgType', 'HouseStyle',\n",
       "       'OverallQual', 'OverallCond', 'YearBuilt', 'YearRemodAdd', 'RoofStyle',\n",
       "       'RoofMatl', 'Exterior1st', 'Exterior2nd', 'MasVnrType', 'MasVnrArea',\n",
       "       'ExterQual', 'ExterCond', 'Foundation', 'BsmtQual', 'BsmtCond',\n",
       "       'BsmtExposure', 'BsmtFinType1', 'BsmtFinSF1', 'BsmtFinType2',\n",
       "       'BsmtFinSF2', 'BsmtUnfSF', 'TotalBsmtSF', 'Heating', 'HeatingQC',\n",
       "       'CentralAir', 'Electrical', '1stFlrSF', '2ndFlrSF', 'LowQualFinSF',\n",
       "       'GrLivArea', 'BsmtFullBath', 'BsmtHalfBath', 'FullBath', 'HalfBath',\n",
       "       'BedroomAbvGr', 'KitchenAbvGr', 'KitchenQual', 'TotRmsAbvGrd',\n",
       "       'Functional', 'Fireplaces', 'FireplaceQu', 'GarageType', 'GarageYrBlt',\n",
       "       'GarageFinish', 'GarageCars', 'GarageArea', 'GarageQual', 'GarageCond',\n",
       "       'PavedDrive', 'WoodDeckSF', 'OpenPorchSF', 'EnclosedPorch', '3SsnPorch',\n",
       "       'ScreenPorch', 'PoolArea', 'PoolQC', 'Fence', 'MiscFeature', 'MiscVal',\n",
       "       'MoSold', 'YrSold', 'SaleType', 'SaleCondition', 'SalePrice'],\n",
       "      dtype='object')"
      ]
     },
     "execution_count": 10,
     "metadata": {},
     "output_type": "execute_result"
    }
   ],
   "source": [
    "columns"
   ]
  },
  {
   "cell_type": "code",
   "execution_count": 11,
   "id": "c72346f5",
   "metadata": {
    "execution": {
     "iopub.execute_input": "2022-02-27T15:24:32.029892Z",
     "iopub.status.busy": "2022-02-27T15:24:32.029227Z",
     "iopub.status.idle": "2022-02-27T15:24:32.035677Z",
     "shell.execute_reply": "2022-02-27T15:24:32.036181Z",
     "shell.execute_reply.started": "2022-02-27T15:01:41.827514Z"
    },
    "papermill": {
     "duration": 0.070202,
     "end_time": "2022-02-27T15:24:32.036371",
     "exception": false,
     "start_time": "2022-02-27T15:24:31.966169",
     "status": "completed"
    },
    "tags": []
   },
   "outputs": [
    {
     "data": {
      "text/plain": [
       "['MSSubClass',\n",
       " 'LotFrontage',\n",
       " 'LotArea',\n",
       " 'LotShape',\n",
       " 'LandSlope',\n",
       " 'OverallQual',\n",
       " 'OverallCond',\n",
       " 'YearBuilt',\n",
       " 'YearRemodAdd',\n",
       " 'MasVnrArea',\n",
       " 'ExterQual',\n",
       " 'ExterCond',\n",
       " 'BsmtQual',\n",
       " 'BsmtCond',\n",
       " 'BsmtExposure',\n",
       " 'BsmtFinType1',\n",
       " 'BsmtFinSF1',\n",
       " 'BsmtFinType2',\n",
       " 'BsmtFinSF2',\n",
       " 'BsmtUnfSF',\n",
       " 'TotalBsmtSF',\n",
       " 'HeatingQC',\n",
       " '1stFlrSF',\n",
       " '2ndFlrSF',\n",
       " 'LowQualFinSF',\n",
       " 'GrLivArea',\n",
       " 'BsmtFullBath',\n",
       " 'BsmtHalfBath',\n",
       " 'FullBath',\n",
       " 'HalfBath',\n",
       " 'BedroomAbvGr',\n",
       " 'KitchenAbvGr',\n",
       " 'KitchenQual',\n",
       " 'TotRmsAbvGrd',\n",
       " 'Functional',\n",
       " 'Fireplaces',\n",
       " 'FireplaceQu',\n",
       " 'GarageYrBlt',\n",
       " 'GarageFinish',\n",
       " 'GarageCars',\n",
       " 'GarageArea',\n",
       " 'GarageQual',\n",
       " 'GarageCond',\n",
       " 'WoodDeckSF',\n",
       " 'OpenPorchSF',\n",
       " 'EnclosedPorch',\n",
       " '3SsnPorch',\n",
       " 'ScreenPorch',\n",
       " 'PoolArea',\n",
       " 'PoolQC',\n",
       " 'Fence',\n",
       " 'MiscVal',\n",
       " 'MoSold',\n",
       " 'YrSold',\n",
       " 'SalePrice']"
      ]
     },
     "execution_count": 11,
     "metadata": {},
     "output_type": "execute_result"
    }
   ],
   "source": [
    "# Extracting only numeric features\n",
    "numeric_columns = []\n",
    "for column in columns:\n",
    "    if house_train[column].dtype != object :\n",
    "        numeric_columns.append(column)\n",
    "        \n",
    "numeric_columns"
   ]
  },
  {
   "cell_type": "code",
   "execution_count": 12,
   "id": "7a17624c",
   "metadata": {
    "execution": {
     "iopub.execute_input": "2022-02-27T15:24:32.157808Z",
     "iopub.status.busy": "2022-02-27T15:24:32.157178Z",
     "iopub.status.idle": "2022-02-27T15:24:32.162365Z",
     "shell.execute_reply": "2022-02-27T15:24:32.162877Z",
     "shell.execute_reply.started": "2022-02-27T15:01:41.841892Z"
    },
    "papermill": {
     "duration": 0.06732,
     "end_time": "2022-02-27T15:24:32.163049",
     "exception": false,
     "start_time": "2022-02-27T15:24:32.095729",
     "status": "completed"
    },
    "tags": []
   },
   "outputs": [],
   "source": [
    "train_data = house_train[numeric_columns]"
   ]
  },
  {
   "cell_type": "code",
   "execution_count": 13,
   "id": "0087def0",
   "metadata": {
    "execution": {
     "iopub.execute_input": "2022-02-27T15:24:32.286501Z",
     "iopub.status.busy": "2022-02-27T15:24:32.285698Z",
     "iopub.status.idle": "2022-02-27T15:24:32.291804Z",
     "shell.execute_reply": "2022-02-27T15:24:32.292214Z",
     "shell.execute_reply.started": "2022-02-27T15:01:41.855051Z"
    },
    "papermill": {
     "duration": 0.070027,
     "end_time": "2022-02-27T15:24:32.292413",
     "exception": false,
     "start_time": "2022-02-27T15:24:32.222386",
     "status": "completed"
    },
    "tags": []
   },
   "outputs": [
    {
     "data": {
      "text/plain": [
       "MSSubClass         0\n",
       "LotFrontage      259\n",
       "LotArea            0\n",
       "LotShape           0\n",
       "LandSlope          0\n",
       "OverallQual        0\n",
       "OverallCond        0\n",
       "YearBuilt          0\n",
       "YearRemodAdd       0\n",
       "MasVnrArea         8\n",
       "ExterQual          0\n",
       "ExterCond          0\n",
       "BsmtQual           0\n",
       "BsmtCond           0\n",
       "BsmtExposure       0\n",
       "BsmtFinType1       0\n",
       "BsmtFinSF1         0\n",
       "BsmtFinType2       0\n",
       "BsmtFinSF2         0\n",
       "BsmtUnfSF          0\n",
       "TotalBsmtSF        0\n",
       "HeatingQC          0\n",
       "1stFlrSF           0\n",
       "2ndFlrSF           0\n",
       "LowQualFinSF       0\n",
       "GrLivArea          0\n",
       "BsmtFullBath       0\n",
       "BsmtHalfBath       0\n",
       "FullBath           0\n",
       "HalfBath           0\n",
       "BedroomAbvGr       0\n",
       "KitchenAbvGr       0\n",
       "KitchenQual        0\n",
       "TotRmsAbvGrd       0\n",
       "Functional         0\n",
       "Fireplaces         0\n",
       "FireplaceQu        0\n",
       "GarageYrBlt       81\n",
       "GarageFinish       0\n",
       "GarageCars         0\n",
       "GarageArea         0\n",
       "GarageQual         0\n",
       "GarageCond         0\n",
       "WoodDeckSF         0\n",
       "OpenPorchSF        0\n",
       "EnclosedPorch      0\n",
       "3SsnPorch          0\n",
       "ScreenPorch        0\n",
       "PoolArea           0\n",
       "PoolQC             0\n",
       "Fence              0\n",
       "MiscVal            0\n",
       "MoSold             0\n",
       "YrSold             0\n",
       "SalePrice          0\n",
       "dtype: int64"
      ]
     },
     "execution_count": 13,
     "metadata": {},
     "output_type": "execute_result"
    }
   ],
   "source": [
    "# describe the NAN Values\n",
    "train_data.isnull().sum()"
   ]
  },
  {
   "cell_type": "markdown",
   "id": "27a90e0a",
   "metadata": {
    "papermill": {
     "duration": 0.058848,
     "end_time": "2022-02-27T15:24:32.413108",
     "exception": false,
     "start_time": "2022-02-27T15:24:32.354260",
     "status": "completed"
    },
    "tags": []
   },
   "source": [
    "# I'll fill the NAN Values by the median\n"
   ]
  },
  {
   "cell_type": "code",
   "execution_count": 14,
   "id": "623bd1d1",
   "metadata": {
    "execution": {
     "iopub.execute_input": "2022-02-27T15:24:32.537743Z",
     "iopub.status.busy": "2022-02-27T15:24:32.537013Z",
     "iopub.status.idle": "2022-02-27T15:24:32.541339Z",
     "shell.execute_reply": "2022-02-27T15:24:32.541910Z",
     "shell.execute_reply.started": "2022-02-27T15:01:41.873424Z"
    },
    "papermill": {
     "duration": 0.069494,
     "end_time": "2022-02-27T15:24:32.542077",
     "exception": false,
     "start_time": "2022-02-27T15:24:32.472583",
     "status": "completed"
    },
    "tags": []
   },
   "outputs": [
    {
     "name": "stderr",
     "output_type": "stream",
     "text": [
      "/opt/conda/lib/python3.7/site-packages/ipykernel_launcher.py:1: SettingWithCopyWarning: \n",
      "A value is trying to be set on a copy of a slice from a DataFrame.\n",
      "Try using .loc[row_indexer,col_indexer] = value instead\n",
      "\n",
      "See the caveats in the documentation: https://pandas.pydata.org/pandas-docs/stable/user_guide/indexing.html#returning-a-view-versus-a-copy\n",
      "  \"\"\"Entry point for launching an IPython kernel.\n"
     ]
    }
   ],
   "source": [
    "train_data['LotFrontage'] = train_data['LotFrontage'].fillna(train_data['LotFrontage'].median())"
   ]
  },
  {
   "cell_type": "code",
   "execution_count": 15,
   "id": "9dcb1869",
   "metadata": {
    "execution": {
     "iopub.execute_input": "2022-02-27T15:24:32.668572Z",
     "iopub.status.busy": "2022-02-27T15:24:32.667914Z",
     "iopub.status.idle": "2022-02-27T15:24:32.672505Z",
     "shell.execute_reply": "2022-02-27T15:24:32.673099Z",
     "shell.execute_reply.started": "2022-02-27T15:01:41.881697Z"
    },
    "papermill": {
     "duration": 0.071018,
     "end_time": "2022-02-27T15:24:32.673272",
     "exception": false,
     "start_time": "2022-02-27T15:24:32.602254",
     "status": "completed"
    },
    "tags": []
   },
   "outputs": [
    {
     "name": "stderr",
     "output_type": "stream",
     "text": [
      "/opt/conda/lib/python3.7/site-packages/ipykernel_launcher.py:1: SettingWithCopyWarning: \n",
      "A value is trying to be set on a copy of a slice from a DataFrame.\n",
      "Try using .loc[row_indexer,col_indexer] = value instead\n",
      "\n",
      "See the caveats in the documentation: https://pandas.pydata.org/pandas-docs/stable/user_guide/indexing.html#returning-a-view-versus-a-copy\n",
      "  \"\"\"Entry point for launching an IPython kernel.\n"
     ]
    }
   ],
   "source": [
    "train_data['MasVnrArea'] = train_data['MasVnrArea'].fillna(train_data['MasVnrArea'].median())"
   ]
  },
  {
   "cell_type": "code",
   "execution_count": 16,
   "id": "3f86d80e",
   "metadata": {
    "execution": {
     "iopub.execute_input": "2022-02-27T15:24:32.797055Z",
     "iopub.status.busy": "2022-02-27T15:24:32.796470Z",
     "iopub.status.idle": "2022-02-27T15:24:32.802458Z",
     "shell.execute_reply": "2022-02-27T15:24:32.803103Z",
     "shell.execute_reply.started": "2022-02-27T15:01:41.897586Z"
    },
    "papermill": {
     "duration": 0.069653,
     "end_time": "2022-02-27T15:24:32.803321",
     "exception": false,
     "start_time": "2022-02-27T15:24:32.733668",
     "status": "completed"
    },
    "tags": []
   },
   "outputs": [
    {
     "name": "stderr",
     "output_type": "stream",
     "text": [
      "/opt/conda/lib/python3.7/site-packages/ipykernel_launcher.py:1: SettingWithCopyWarning: \n",
      "A value is trying to be set on a copy of a slice from a DataFrame.\n",
      "Try using .loc[row_indexer,col_indexer] = value instead\n",
      "\n",
      "See the caveats in the documentation: https://pandas.pydata.org/pandas-docs/stable/user_guide/indexing.html#returning-a-view-versus-a-copy\n",
      "  \"\"\"Entry point for launching an IPython kernel.\n"
     ]
    }
   ],
   "source": [
    "train_data['GarageYrBlt'] = train_data['GarageYrBlt'].fillna(train_data['GarageYrBlt'].median())"
   ]
  },
  {
   "cell_type": "code",
   "execution_count": 17,
   "id": "e7bc6004",
   "metadata": {
    "execution": {
     "iopub.execute_input": "2022-02-27T15:24:32.930760Z",
     "iopub.status.busy": "2022-02-27T15:24:32.930096Z",
     "iopub.status.idle": "2022-02-27T15:24:32.937850Z",
     "shell.execute_reply": "2022-02-27T15:24:32.938422Z",
     "shell.execute_reply.started": "2022-02-27T15:01:41.908555Z"
    },
    "papermill": {
     "duration": 0.073613,
     "end_time": "2022-02-27T15:24:32.938603",
     "exception": false,
     "start_time": "2022-02-27T15:24:32.864990",
     "status": "completed"
    },
    "tags": []
   },
   "outputs": [
    {
     "data": {
      "text/plain": [
       "MSSubClass       0\n",
       "LotFrontage      0\n",
       "LotArea          0\n",
       "LotShape         0\n",
       "LandSlope        0\n",
       "OverallQual      0\n",
       "OverallCond      0\n",
       "YearBuilt        0\n",
       "YearRemodAdd     0\n",
       "MasVnrArea       0\n",
       "ExterQual        0\n",
       "ExterCond        0\n",
       "BsmtQual         0\n",
       "BsmtCond         0\n",
       "BsmtExposure     0\n",
       "BsmtFinType1     0\n",
       "BsmtFinSF1       0\n",
       "BsmtFinType2     0\n",
       "BsmtFinSF2       0\n",
       "BsmtUnfSF        0\n",
       "TotalBsmtSF      0\n",
       "HeatingQC        0\n",
       "1stFlrSF         0\n",
       "2ndFlrSF         0\n",
       "LowQualFinSF     0\n",
       "GrLivArea        0\n",
       "BsmtFullBath     0\n",
       "BsmtHalfBath     0\n",
       "FullBath         0\n",
       "HalfBath         0\n",
       "BedroomAbvGr     0\n",
       "KitchenAbvGr     0\n",
       "KitchenQual      0\n",
       "TotRmsAbvGrd     0\n",
       "Functional       0\n",
       "Fireplaces       0\n",
       "FireplaceQu      0\n",
       "GarageYrBlt      0\n",
       "GarageFinish     0\n",
       "GarageCars       0\n",
       "GarageArea       0\n",
       "GarageQual       0\n",
       "GarageCond       0\n",
       "WoodDeckSF       0\n",
       "OpenPorchSF      0\n",
       "EnclosedPorch    0\n",
       "3SsnPorch        0\n",
       "ScreenPorch      0\n",
       "PoolArea         0\n",
       "PoolQC           0\n",
       "Fence            0\n",
       "MiscVal          0\n",
       "MoSold           0\n",
       "YrSold           0\n",
       "SalePrice        0\n",
       "dtype: int64"
      ]
     },
     "execution_count": 17,
     "metadata": {},
     "output_type": "execute_result"
    }
   ],
   "source": [
    "train_data.isnull().sum()"
   ]
  },
  {
   "cell_type": "markdown",
   "id": "f770b3a2",
   "metadata": {
    "papermill": {
     "duration": 0.063201,
     "end_time": "2022-02-27T15:24:33.064147",
     "exception": false,
     "start_time": "2022-02-27T15:24:33.000946",
     "status": "completed"
    },
    "tags": []
   },
   "source": [
    "# Check if there's any infinte feature because it makes alot of problems while training"
   ]
  },
  {
   "cell_type": "code",
   "execution_count": 18,
   "id": "9071457a",
   "metadata": {
    "execution": {
     "iopub.execute_input": "2022-02-27T15:24:33.197047Z",
     "iopub.status.busy": "2022-02-27T15:24:33.195591Z",
     "iopub.status.idle": "2022-02-27T15:24:33.203312Z",
     "shell.execute_reply": "2022-02-27T15:24:33.203756Z",
     "shell.execute_reply.started": "2022-02-27T15:01:41.925229Z"
    },
    "papermill": {
     "duration": 0.076064,
     "end_time": "2022-02-27T15:24:33.203934",
     "exception": false,
     "start_time": "2022-02-27T15:24:33.127870",
     "status": "completed"
    },
    "tags": []
   },
   "outputs": [
    {
     "data": {
      "text/plain": [
       "MSSubClass       True\n",
       "LotFrontage      True\n",
       "LotArea          True\n",
       "LotShape         True\n",
       "LandSlope        True\n",
       "OverallQual      True\n",
       "OverallCond      True\n",
       "YearBuilt        True\n",
       "YearRemodAdd     True\n",
       "MasVnrArea       True\n",
       "ExterQual        True\n",
       "ExterCond        True\n",
       "BsmtQual         True\n",
       "BsmtCond         True\n",
       "BsmtExposure     True\n",
       "BsmtFinType1     True\n",
       "BsmtFinSF1       True\n",
       "BsmtFinType2     True\n",
       "BsmtFinSF2       True\n",
       "BsmtUnfSF        True\n",
       "TotalBsmtSF      True\n",
       "HeatingQC        True\n",
       "1stFlrSF         True\n",
       "2ndFlrSF         True\n",
       "LowQualFinSF     True\n",
       "GrLivArea        True\n",
       "BsmtFullBath     True\n",
       "BsmtHalfBath     True\n",
       "FullBath         True\n",
       "HalfBath         True\n",
       "BedroomAbvGr     True\n",
       "KitchenAbvGr     True\n",
       "KitchenQual      True\n",
       "TotRmsAbvGrd     True\n",
       "Functional       True\n",
       "Fireplaces       True\n",
       "FireplaceQu      True\n",
       "GarageYrBlt      True\n",
       "GarageFinish     True\n",
       "GarageCars       True\n",
       "GarageArea       True\n",
       "GarageQual       True\n",
       "GarageCond       True\n",
       "WoodDeckSF       True\n",
       "OpenPorchSF      True\n",
       "EnclosedPorch    True\n",
       "3SsnPorch        True\n",
       "ScreenPorch      True\n",
       "PoolArea         True\n",
       "PoolQC           True\n",
       "Fence            True\n",
       "MiscVal          True\n",
       "MoSold           True\n",
       "YrSold           True\n",
       "SalePrice        True\n",
       "dtype: bool"
      ]
     },
     "execution_count": 18,
     "metadata": {},
     "output_type": "execute_result"
    }
   ],
   "source": [
    "np.isfinite(train_data.any())"
   ]
  },
  {
   "cell_type": "code",
   "execution_count": 19,
   "id": "ea6142a5",
   "metadata": {
    "execution": {
     "iopub.execute_input": "2022-02-27T15:24:33.338311Z",
     "iopub.status.busy": "2022-02-27T15:24:33.337376Z",
     "iopub.status.idle": "2022-02-27T15:24:33.340382Z",
     "shell.execute_reply": "2022-02-27T15:24:33.339866Z",
     "shell.execute_reply.started": "2022-02-27T15:01:41.936469Z"
    },
    "papermill": {
     "duration": 0.07385,
     "end_time": "2022-02-27T15:24:33.340521",
     "exception": false,
     "start_time": "2022-02-27T15:24:33.266671",
     "status": "completed"
    },
    "tags": []
   },
   "outputs": [],
   "source": [
    "train_x = train_data.iloc[:,:-1]\n",
    "train_y = train_data.iloc[:,-1]"
   ]
  },
  {
   "cell_type": "code",
   "execution_count": 20,
   "id": "842009ad",
   "metadata": {
    "execution": {
     "iopub.execute_input": "2022-02-27T15:24:33.469244Z",
     "iopub.status.busy": "2022-02-27T15:24:33.468540Z",
     "iopub.status.idle": "2022-02-27T15:24:34.594096Z",
     "shell.execute_reply": "2022-02-27T15:24:34.594633Z",
     "shell.execute_reply.started": "2022-02-27T15:01:41.948442Z"
    },
    "papermill": {
     "duration": 1.192369,
     "end_time": "2022-02-27T15:24:34.594822",
     "exception": false,
     "start_time": "2022-02-27T15:24:33.402453",
     "status": "completed"
    },
    "tags": []
   },
   "outputs": [],
   "source": [
    "from sklearn.preprocessing import StandardScaler\n",
    "from sklearn.utils import shuffle"
   ]
  },
  {
   "cell_type": "code",
   "execution_count": 21,
   "id": "7e201ab6",
   "metadata": {
    "execution": {
     "iopub.execute_input": "2022-02-27T15:24:34.731040Z",
     "iopub.status.busy": "2022-02-27T15:24:34.729891Z",
     "iopub.status.idle": "2022-02-27T15:24:34.737165Z",
     "shell.execute_reply": "2022-02-27T15:24:34.737661Z",
     "shell.execute_reply.started": "2022-02-27T15:01:41.960353Z"
    },
    "papermill": {
     "duration": 0.079123,
     "end_time": "2022-02-27T15:24:34.737845",
     "exception": false,
     "start_time": "2022-02-27T15:24:34.658722",
     "status": "completed"
    },
    "tags": []
   },
   "outputs": [],
   "source": [
    "scaler = StandardScaler()\n",
    "train_x = scaler.fit_transform(train_x)"
   ]
  },
  {
   "cell_type": "code",
   "execution_count": 22,
   "id": "b10f1b3e",
   "metadata": {
    "execution": {
     "iopub.execute_input": "2022-02-27T15:24:34.868476Z",
     "iopub.status.busy": "2022-02-27T15:24:34.867731Z",
     "iopub.status.idle": "2022-02-27T15:24:34.872465Z",
     "shell.execute_reply": "2022-02-27T15:24:34.872939Z",
     "shell.execute_reply.started": "2022-02-27T15:01:41.978906Z"
    },
    "papermill": {
     "duration": 0.072341,
     "end_time": "2022-02-27T15:24:34.873119",
     "exception": false,
     "start_time": "2022-02-27T15:24:34.800778",
     "status": "completed"
    },
    "tags": []
   },
   "outputs": [],
   "source": [
    "train_x , train_y = shuffle(train_x,train_y,random_state = 42)"
   ]
  },
  {
   "cell_type": "code",
   "execution_count": 23,
   "id": "d21e4941",
   "metadata": {
    "execution": {
     "iopub.execute_input": "2022-02-27T15:24:35.001920Z",
     "iopub.status.busy": "2022-02-27T15:24:35.000344Z",
     "iopub.status.idle": "2022-02-27T15:24:35.061132Z",
     "shell.execute_reply": "2022-02-27T15:24:35.060265Z",
     "shell.execute_reply.started": "2022-02-27T15:01:41.985812Z"
    },
    "papermill": {
     "duration": 0.126617,
     "end_time": "2022-02-27T15:24:35.061324",
     "exception": false,
     "start_time": "2022-02-27T15:24:34.934707",
     "status": "completed"
    },
    "tags": []
   },
   "outputs": [],
   "source": [
    "from sklearn.model_selection import train_test_split"
   ]
  },
  {
   "cell_type": "code",
   "execution_count": 24,
   "id": "a98c3363",
   "metadata": {
    "execution": {
     "iopub.execute_input": "2022-02-27T15:24:35.196524Z",
     "iopub.status.busy": "2022-02-27T15:24:35.195759Z",
     "iopub.status.idle": "2022-02-27T15:24:35.199395Z",
     "shell.execute_reply": "2022-02-27T15:24:35.198920Z",
     "shell.execute_reply.started": "2022-02-27T15:01:42.000359Z"
    },
    "papermill": {
     "duration": 0.074731,
     "end_time": "2022-02-27T15:24:35.199540",
     "exception": false,
     "start_time": "2022-02-27T15:24:35.124809",
     "status": "completed"
    },
    "tags": []
   },
   "outputs": [],
   "source": [
    "X_train, X_valid, y_train, y_valid = train_test_split(train_x, train_y, test_size=0.25, random_state=42)"
   ]
  },
  {
   "cell_type": "markdown",
   "id": "e46d0eeb",
   "metadata": {
    "papermill": {
     "duration": 0.06558,
     "end_time": "2022-02-27T15:24:35.330454",
     "exception": false,
     "start_time": "2022-02-27T15:24:35.264874",
     "status": "completed"
    },
    "tags": []
   },
   "source": [
    "# invastigate the skewness of the data\n",
    "# (It's a common issue in house pricing problem because some houses will be very expensive and other houses very cheap\n"
   ]
  },
  {
   "cell_type": "code",
   "execution_count": 25,
   "id": "7a6511c8",
   "metadata": {
    "execution": {
     "iopub.execute_input": "2022-02-27T15:24:35.462344Z",
     "iopub.status.busy": "2022-02-27T15:24:35.461491Z",
     "iopub.status.idle": "2022-02-27T15:24:35.961606Z",
     "shell.execute_reply": "2022-02-27T15:24:35.962092Z",
     "shell.execute_reply.started": "2022-02-27T15:01:42.009646Z"
    },
    "papermill": {
     "duration": 0.568981,
     "end_time": "2022-02-27T15:24:35.962264",
     "exception": false,
     "start_time": "2022-02-27T15:24:35.393283",
     "status": "completed"
    },
    "tags": []
   },
   "outputs": [
    {
     "name": "stderr",
     "output_type": "stream",
     "text": [
      "/opt/conda/lib/python3.7/site-packages/seaborn/distributions.py:2619: FutureWarning: `distplot` is a deprecated function and will be removed in a future version. Please adapt your code to use either `displot` (a figure-level function with similar flexibility) or `histplot` (an axes-level function for histograms).\n",
      "  warnings.warn(msg, FutureWarning)\n"
     ]
    },
    {
     "data": {
      "text/plain": [
       "<AxesSubplot:xlabel='SalePrice', ylabel='Density'>"
      ]
     },
     "execution_count": 25,
     "metadata": {},
     "output_type": "execute_result"
    },
    {
     "data": {
      "image/png": "[encoded data removed]",
      "text/plain": [
       "<Figure size 432x288 with 1 Axes>"
      ]
     },
     "metadata": {
      "needs_background": "light"
     },
     "output_type": "display_data"
    }
   ],
   "source": [
    "import seaborn as sns\n",
    "sns.distplot(y_train)"
   ]
  },
  {
   "cell_type": "markdown",
   "id": "17c0ff98",
   "metadata": {
    "papermill": {
     "duration": 0.06297,
     "end_time": "2022-02-27T15:24:36.090000",
     "exception": false,
     "start_time": "2022-02-27T15:24:36.027030",
     "status": "completed"
    },
    "tags": []
   },
   "source": [
    "# will take the log of the data to make it less skewed"
   ]
  },
  {
   "cell_type": "code",
   "execution_count": 26,
   "id": "3e1f7e66",
   "metadata": {
    "execution": {
     "iopub.execute_input": "2022-02-27T15:24:36.219983Z",
     "iopub.status.busy": "2022-02-27T15:24:36.219385Z",
     "iopub.status.idle": "2022-02-27T15:24:36.502823Z",
     "shell.execute_reply": "2022-02-27T15:24:36.502331Z",
     "shell.execute_reply.started": "2022-02-27T15:01:42.298123Z"
    },
    "papermill": {
     "duration": 0.349392,
     "end_time": "2022-02-27T15:24:36.502962",
     "exception": false,
     "start_time": "2022-02-27T15:24:36.153570",
     "status": "completed"
    },
    "tags": []
   },
   "outputs": [
    {
     "name": "stderr",
     "output_type": "stream",
     "text": [
      "/opt/conda/lib/python3.7/site-packages/seaborn/distributions.py:2619: FutureWarning: `distplot` is a deprecated function and will be removed in a future version. Please adapt your code to use either `displot` (a figure-level function with similar flexibility) or `histplot` (an axes-level function for histograms).\n",
      "  warnings.warn(msg, FutureWarning)\n"
     ]
    },
    {
     "data": {
      "text/plain": [
       "<AxesSubplot:xlabel='SalePrice', ylabel='Density'>"
      ]
     },
     "execution_count": 26,
     "metadata": {},
     "output_type": "execute_result"
    },
    {
     "data": {
      "image/png": "[encoded data removed]",
      "text/plain": [
       "<Figure size 432x288 with 1 Axes>"
      ]
     },
     "metadata": {
      "needs_background": "light"
     },
     "output_type": "display_data"
    }
   ],
   "source": [
    "y_train_l = np.log1p(y_train)\n",
    "sns.distplot(y_train_l)"
   ]
  },
  {
   "cell_type": "code",
   "execution_count": 27,
   "id": "24db2b66",
   "metadata": {
    "execution": {
     "iopub.execute_input": "2022-02-27T15:24:36.637592Z",
     "iopub.status.busy": "2022-02-27T15:24:36.636956Z",
     "iopub.status.idle": "2022-02-27T15:24:36.644922Z",
     "shell.execute_reply": "2022-02-27T15:24:36.645563Z",
     "shell.execute_reply.started": "2022-02-27T15:01:42.548613Z"
    },
    "papermill": {
     "duration": 0.076391,
     "end_time": "2022-02-27T15:24:36.645738",
     "exception": false,
     "start_time": "2022-02-27T15:24:36.569347",
     "status": "completed"
    },
    "tags": []
   },
   "outputs": [
    {
     "data": {
      "text/html": [
       "<div>\n",
       "<style scoped>\n",
       "    .dataframe tbody tr th:only-of-type {\n",
       "        vertical-align: middle;\n",
       "    }\n",
       "\n",
       "    .dataframe tbody tr th {\n",
       "        vertical-align: top;\n",
       "    }\n",
       "\n",
       "    .dataframe thead th {\n",
       "        text-align: right;\n",
       "    }\n",
       "</style>\n",
       "<table border=\"1\" class=\"dataframe\">\n",
       "  <thead>\n",
       "    <tr style=\"text-align: right;\">\n",
       "      <th></th>\n",
       "      <th>SalePrice</th>\n",
       "    </tr>\n",
       "  </thead>\n",
       "  <tbody>\n",
       "    <tr>\n",
       "      <th>848</th>\n",
       "      <td>240000</td>\n",
       "    </tr>\n",
       "    <tr>\n",
       "      <th>1389</th>\n",
       "      <td>131000</td>\n",
       "    </tr>\n",
       "    <tr>\n",
       "      <th>201</th>\n",
       "      <td>171500</td>\n",
       "    </tr>\n",
       "  </tbody>\n",
       "</table>\n",
       "</div>"
      ],
      "text/plain": [
       "      SalePrice\n",
       "848      240000\n",
       "1389     131000\n",
       "201      171500"
      ]
     },
     "execution_count": 27,
     "metadata": {},
     "output_type": "execute_result"
    }
   ],
   "source": [
    "pd.DataFrame(y_train).head(3)"
   ]
  },
  {
   "cell_type": "code",
   "execution_count": 28,
   "id": "91ce8e30",
   "metadata": {
    "execution": {
     "iopub.execute_input": "2022-02-27T15:24:36.779321Z",
     "iopub.status.busy": "2022-02-27T15:24:36.778723Z",
     "iopub.status.idle": "2022-02-27T15:24:36.787030Z",
     "shell.execute_reply": "2022-02-27T15:24:36.787566Z",
     "shell.execute_reply.started": "2022-02-27T15:01:42.560001Z"
    },
    "papermill": {
     "duration": 0.075855,
     "end_time": "2022-02-27T15:24:36.787736",
     "exception": false,
     "start_time": "2022-02-27T15:24:36.711881",
     "status": "completed"
    },
    "tags": []
   },
   "outputs": [
    {
     "data": {
      "text/html": [
       "<div>\n",
       "<style scoped>\n",
       "    .dataframe tbody tr th:only-of-type {\n",
       "        vertical-align: middle;\n",
       "    }\n",
       "\n",
       "    .dataframe tbody tr th {\n",
       "        vertical-align: top;\n",
       "    }\n",
       "\n",
       "    .dataframe thead th {\n",
       "        text-align: right;\n",
       "    }\n",
       "</style>\n",
       "<table border=\"1\" class=\"dataframe\">\n",
       "  <thead>\n",
       "    <tr style=\"text-align: right;\">\n",
       "      <th></th>\n",
       "      <th>SalePrice</th>\n",
       "    </tr>\n",
       "  </thead>\n",
       "  <tbody>\n",
       "    <tr>\n",
       "      <th>848</th>\n",
       "      <td>12.388398</td>\n",
       "    </tr>\n",
       "    <tr>\n",
       "      <th>1389</th>\n",
       "      <td>11.782960</td>\n",
       "    </tr>\n",
       "    <tr>\n",
       "      <th>201</th>\n",
       "      <td>12.052344</td>\n",
       "    </tr>\n",
       "  </tbody>\n",
       "</table>\n",
       "</div>"
      ],
      "text/plain": [
       "      SalePrice\n",
       "848   12.388398\n",
       "1389  11.782960\n",
       "201   12.052344"
      ]
     },
     "execution_count": 28,
     "metadata": {},
     "output_type": "execute_result"
    }
   ],
   "source": [
    "pd.DataFrame(y_train_l).head(3)"
   ]
  },
  {
   "cell_type": "code",
   "execution_count": 29,
   "id": "34e1d710",
   "metadata": {
    "execution": {
     "iopub.execute_input": "2022-02-27T15:24:36.922146Z",
     "iopub.status.busy": "2022-02-27T15:24:36.921497Z",
     "iopub.status.idle": "2022-02-27T15:24:37.009563Z",
     "shell.execute_reply": "2022-02-27T15:24:37.008997Z",
     "shell.execute_reply.started": "2022-02-27T15:01:42.575886Z"
    },
    "papermill": {
     "duration": 0.156262,
     "end_time": "2022-02-27T15:24:37.009717",
     "exception": false,
     "start_time": "2022-02-27T15:24:36.853455",
     "status": "completed"
    },
    "tags": []
   },
   "outputs": [],
   "source": [
    "from sklearn.linear_model import LinearRegression\n",
    "from sklearn.metrics import mean_squared_error, r2_score"
   ]
  },
  {
   "cell_type": "code",
   "execution_count": 30,
   "id": "253946d2",
   "metadata": {
    "execution": {
     "iopub.execute_input": "2022-02-27T15:24:37.143240Z",
     "iopub.status.busy": "2022-02-27T15:24:37.142578Z",
     "iopub.status.idle": "2022-02-27T15:24:37.189784Z",
     "shell.execute_reply": "2022-02-27T15:24:37.191410Z",
     "shell.execute_reply.started": "2022-02-27T15:01:42.588517Z"
    },
    "papermill": {
     "duration": 0.1165,
     "end_time": "2022-02-27T15:24:37.191735",
     "exception": false,
     "start_time": "2022-02-27T15:24:37.075235",
     "status": "completed"
    },
    "tags": []
   },
   "outputs": [
    {
     "name": "stdout",
     "output_type": "stream",
     "text": [
      "Score train:  0.8745081831623165\n",
      "Score train:  0.8126854551993121\n",
      "Score valid 0.9003462585969509\n"
     ]
    }
   ],
   "source": [
    "model1= LinearRegression()\n",
    "model1.fit(X_train,y_train_l)\n",
    "\n",
    "train_pred = np.expm1(model1.predict(X_train))\n",
    "valid_pred = np.expm1(model1.predict(X_valid))\n",
    "\n",
    "print('Score train: ', model1.score(X_train,y_train_l))\n",
    "print('Score train: ', r2_score(y_train,train_pred))\n",
    "print('Score valid', r2_score(y_valid,valid_pred))"
   ]
  },
  {
   "cell_type": "code",
   "execution_count": 31,
   "id": "be24f897",
   "metadata": {
    "execution": {
     "iopub.execute_input": "2022-02-27T15:24:37.411307Z",
     "iopub.status.busy": "2022-02-27T15:24:37.410624Z",
     "iopub.status.idle": "2022-02-27T15:24:37.414163Z",
     "shell.execute_reply": "2022-02-27T15:24:37.414663Z",
     "shell.execute_reply.started": "2022-02-27T15:01:42.623732Z"
    },
    "papermill": {
     "duration": 0.078597,
     "end_time": "2022-02-27T15:24:37.414850",
     "exception": false,
     "start_time": "2022-02-27T15:24:37.336253",
     "status": "completed"
    },
    "tags": []
   },
   "outputs": [
    {
     "name": "stdout",
     "output_type": "stream",
     "text": [
      "RMSE for train:  34897.64996454475\n",
      "RMSE for validation:  23876.246876758196\n"
     ]
    }
   ],
   "source": [
    "print('RMSE for train: ', mean_squared_error(y_train,train_pred, squared=False))\n",
    "print('RMSE for validation: ', mean_squared_error(y_valid,valid_pred,squared=False))"
   ]
  },
  {
   "cell_type": "code",
   "execution_count": 32,
   "id": "d886b9fc",
   "metadata": {
    "execution": {
     "iopub.execute_input": "2022-02-27T15:24:37.557262Z",
     "iopub.status.busy": "2022-02-27T15:24:37.556332Z",
     "iopub.status.idle": "2022-02-27T15:24:37.562849Z",
     "shell.execute_reply": "2022-02-27T15:24:37.563267Z",
     "shell.execute_reply.started": "2022-02-27T15:01:42.638041Z"
    },
    "papermill": {
     "duration": 0.078031,
     "end_time": "2022-02-27T15:24:37.563461",
     "exception": false,
     "start_time": "2022-02-27T15:24:37.485430",
     "status": "completed"
    },
    "tags": []
   },
   "outputs": [
    {
     "data": {
      "text/plain": [
       "848     240000\n",
       "1389    131000\n",
       "201     171500\n",
       "668     168000\n",
       "985     125000\n",
       "         ...  \n",
       "773     114500\n",
       "920     201000\n",
       "627     153000\n",
       "828     185000\n",
       "902     180000\n",
       "Name: SalePrice, Length: 1095, dtype: int64"
      ]
     },
     "execution_count": 32,
     "metadata": {},
     "output_type": "execute_result"
    }
   ],
   "source": [
    "y_train"
   ]
  },
  {
   "cell_type": "markdown",
   "id": "9a9485d8",
   "metadata": {
    "papermill": {
     "duration": 0.068061,
     "end_time": "2022-02-27T15:24:37.701765",
     "exception": false,
     "start_time": "2022-02-27T15:24:37.633704",
     "status": "completed"
    },
    "tags": []
   },
   "source": [
    "# if we didn't get the log of the train labels we may get  better r2_score on the train data but you will find a worse r2_score on the validation data... give it a try"
   ]
  },
  {
   "cell_type": "markdown",
   "id": "0c7f1cdc",
   "metadata": {
    "papermill": {
     "duration": 0.068389,
     "end_time": "2022-02-27T15:24:37.836942",
     "exception": false,
     "start_time": "2022-02-27T15:24:37.768553",
     "status": "completed"
    },
    "tags": []
   },
   "source": [
    "# Test another models (SVM)"
   ]
  },
  {
   "cell_type": "code",
   "execution_count": 33,
   "id": "82311647",
   "metadata": {
    "execution": {
     "iopub.execute_input": "2022-02-27T15:24:37.976728Z",
     "iopub.status.busy": "2022-02-27T15:24:37.976097Z",
     "iopub.status.idle": "2022-02-27T15:24:37.978775Z",
     "shell.execute_reply": "2022-02-27T15:24:37.978248Z",
     "shell.execute_reply.started": "2022-02-27T15:01:42.653942Z"
    },
    "papermill": {
     "duration": 0.073866,
     "end_time": "2022-02-27T15:24:37.978916",
     "exception": false,
     "start_time": "2022-02-27T15:24:37.905050",
     "status": "completed"
    },
    "tags": []
   },
   "outputs": [],
   "source": [
    "from sklearn.svm import SVR"
   ]
  },
  {
   "cell_type": "code",
   "execution_count": 34,
   "id": "5f78fb57",
   "metadata": {
    "execution": {
     "iopub.execute_input": "2022-02-27T15:24:38.126376Z",
     "iopub.status.busy": "2022-02-27T15:24:38.125706Z",
     "iopub.status.idle": "2022-02-27T15:24:40.590174Z",
     "shell.execute_reply": "2022-02-27T15:24:40.589673Z",
     "shell.execute_reply.started": "2022-02-27T15:01:42.663711Z"
    },
    "papermill": {
     "duration": 2.540467,
     "end_time": "2022-02-27T15:24:40.590342",
     "exception": false,
     "start_time": "2022-02-27T15:24:38.049875",
     "status": "completed"
    },
    "tags": []
   },
   "outputs": [
    {
     "name": "stdout",
     "output_type": "stream",
     "text": [
      "Score for train 0.8507789364199128\n",
      "Score for train 0.046486732843194156\n",
      "Score for validation 0.918173126124719\n"
     ]
    }
   ],
   "source": [
    "svr_linear = SVR(kernel = 'linear' , C =1)\n",
    "svr_linear.fit(X_train,y_train_l)\n",
    "\n",
    "svr_pr = np.expm1(svr_linear.predict(X_train))\n",
    "svr_pr_val =  np.expm1(svr_linear.predict(X_valid))\n",
    "\n",
    "print('Score for train', svr_linear.score(X_train,y_train_l))\n",
    "print('Score for train',r2_score(y_train,svr_pr))\n",
    "print('Score for validation',r2_score(y_valid,svr_pr_val))"
   ]
  },
  {
   "cell_type": "code",
   "execution_count": 35,
   "id": "76aa965d",
   "metadata": {
    "execution": {
     "iopub.execute_input": "2022-02-27T15:24:40.730369Z",
     "iopub.status.busy": "2022-02-27T15:24:40.729698Z",
     "iopub.status.idle": "2022-02-27T15:24:40.735788Z",
     "shell.execute_reply": "2022-02-27T15:24:40.736265Z",
     "shell.execute_reply.started": "2022-02-27T15:01:45.153132Z"
    },
    "papermill": {
     "duration": 0.077638,
     "end_time": "2022-02-27T15:24:40.736452",
     "exception": false,
     "start_time": "2022-02-27T15:24:40.658814",
     "status": "completed"
    },
    "tags": []
   },
   "outputs": [
    {
     "name": "stdout",
     "output_type": "stream",
     "text": [
      "RMSE for train 78736.08230624447\n",
      "RMSE for valid: 21635.51494946874\n"
     ]
    }
   ],
   "source": [
    "print('RMSE for train', mean_squared_error(y_train,svr_pr,squared=False))\n",
    "print('RMSE for valid:', mean_squared_error(y_valid,svr_pr_val,squared=False))"
   ]
  },
  {
   "cell_type": "markdown",
   "id": "82c3bb25",
   "metadata": {
    "execution": {
     "iopub.execute_input": "2022-02-26T13:46:49.770262Z",
     "iopub.status.busy": "2022-02-26T13:46:49.769907Z",
     "iopub.status.idle": "2022-02-26T13:46:49.800383Z",
     "shell.execute_reply": "2022-02-26T13:46:49.799291Z",
     "shell.execute_reply.started": "2022-02-26T13:46:49.770193Z"
    },
    "papermill": {
     "duration": 0.066849,
     "end_time": "2022-02-27T15:24:40.871043",
     "exception": false,
     "start_time": "2022-02-27T15:24:40.804194",
     "status": "completed"
    },
    "tags": []
   },
   "source": [
    "# very weird scores on the train data ! "
   ]
  },
  {
   "cell_type": "markdown",
   "id": "9ce9c672",
   "metadata": {
    "papermill": {
     "duration": 0.068453,
     "end_time": "2022-02-27T15:24:41.006864",
     "exception": false,
     "start_time": "2022-02-27T15:24:40.938411",
     "status": "completed"
    },
    "tags": []
   },
   "source": [
    "# Try diffrent kernels"
   ]
  },
  {
   "cell_type": "code",
   "execution_count": 36,
   "id": "61b0d5d6",
   "metadata": {
    "execution": {
     "iopub.execute_input": "2022-02-27T15:24:41.149096Z",
     "iopub.status.busy": "2022-02-27T15:24:41.148483Z",
     "iopub.status.idle": "2022-02-27T15:24:41.285543Z",
     "shell.execute_reply": "2022-02-27T15:24:41.284951Z",
     "shell.execute_reply.started": "2022-02-27T15:01:45.163282Z"
    },
    "papermill": {
     "duration": 0.210675,
     "end_time": "2022-02-27T15:24:41.285683",
     "exception": false,
     "start_time": "2022-02-27T15:24:41.075008",
     "status": "completed"
    },
    "tags": []
   },
   "outputs": [],
   "source": [
    "svr_poly = SVR(kernel = 'poly' , C =0.06, degree = 3)\n",
    "svr_poly.fit(X_train,y_train_l)\n",
    "\n",
    "pr2 = np.expm1(svr_poly.predict(X_train))\n",
    "val2 = np.expm1(svr_poly.predict(X_valid))\n",
    "\n"
   ]
  },
  {
   "cell_type": "code",
   "execution_count": 37,
   "id": "d84563b7",
   "metadata": {
    "execution": {
     "iopub.execute_input": "2022-02-27T15:24:41.431462Z",
     "iopub.status.busy": "2022-02-27T15:24:41.429981Z",
     "iopub.status.idle": "2022-02-27T15:24:41.435575Z",
     "shell.execute_reply": "2022-02-27T15:24:41.435038Z",
     "shell.execute_reply.started": "2022-02-27T15:01:45.317893Z"
    },
    "papermill": {
     "duration": 0.079698,
     "end_time": "2022-02-27T15:24:41.435728",
     "exception": false,
     "start_time": "2022-02-27T15:24:41.356030",
     "status": "completed"
    },
    "tags": []
   },
   "outputs": [
    {
     "name": "stdout",
     "output_type": "stream",
     "text": [
      "RMSE for train:  44320.27233163105\n",
      "RMSE for valid:  34154.360832910876\n"
     ]
    }
   ],
   "source": [
    "print('RMSE for train: ', mean_squared_error(y_train,pr2,squared=False))\n",
    "print('RMSE for valid: ', mean_squared_error(y_valid,val2,squared=False))"
   ]
  },
  {
   "cell_type": "code",
   "execution_count": 38,
   "id": "e7ab52d9",
   "metadata": {
    "execution": {
     "iopub.execute_input": "2022-02-27T15:24:41.604781Z",
     "iopub.status.busy": "2022-02-27T15:24:41.601826Z",
     "iopub.status.idle": "2022-02-27T15:24:41.740781Z",
     "shell.execute_reply": "2022-02-27T15:24:41.741273Z",
     "shell.execute_reply.started": "2022-02-27T15:01:45.327397Z"
    },
    "papermill": {
     "duration": 0.229481,
     "end_time": "2022-02-27T15:24:41.741463",
     "exception": false,
     "start_time": "2022-02-27T15:24:41.511982",
     "status": "completed"
    },
    "tags": []
   },
   "outputs": [
    {
     "name": "stdout",
     "output_type": "stream",
     "text": [
      "Score train 0.9533281492119873\n",
      "Score val:  0.8593942919425448\n"
     ]
    }
   ],
   "source": [
    "svr_rbf = SVR(kernel = 'rbf')\n",
    "svr_rbf.fit(X_train,y_train_l)\n",
    "\n",
    "pr3 = np.expm1(svr_rbf.predict(X_train))\n",
    "val3 = np.expm1(svr_rbf.predict(X_valid))\n",
    "\n",
    "print('Score train', r2_score(y_train,pr3))\n",
    "print('Score val: ', r2_score(y_valid,val3))"
   ]
  },
  {
   "cell_type": "code",
   "execution_count": 39,
   "id": "ae2619fa",
   "metadata": {
    "execution": {
     "iopub.execute_input": "2022-02-27T15:24:41.887741Z",
     "iopub.status.busy": "2022-02-27T15:24:41.886816Z",
     "iopub.status.idle": "2022-02-27T15:24:41.891219Z",
     "shell.execute_reply": "2022-02-27T15:24:41.890434Z",
     "shell.execute_reply.started": "2022-02-27T15:01:45.466801Z"
    },
    "papermill": {
     "duration": 0.079105,
     "end_time": "2022-02-27T15:24:41.891390",
     "exception": false,
     "start_time": "2022-02-27T15:24:41.812285",
     "status": "completed"
    },
    "tags": []
   },
   "outputs": [
    {
     "name": "stdout",
     "output_type": "stream",
     "text": [
      "RMSE for train:  17419.590574391645\n",
      "RMSE for valid:  28360.947269520984\n"
     ]
    }
   ],
   "source": [
    "print('RMSE for train: ', mean_squared_error(y_train,pr3,squared=False))\n",
    "print('RMSE for valid: ', mean_squared_error(y_valid,val3,squared=False))"
   ]
  },
  {
   "cell_type": "markdown",
   "id": "36047a9b",
   "metadata": {
    "papermill": {
     "duration": 0.068533,
     "end_time": "2022-02-27T15:24:42.028695",
     "exception": false,
     "start_time": "2022-02-27T15:24:41.960162",
     "status": "completed"
    },
    "tags": []
   },
   "source": [
    "# I'll try SGDRegressor and Ridge and Lasso models to see wether they get more accurate than SVR or not"
   ]
  },
  {
   "cell_type": "code",
   "execution_count": 40,
   "id": "c2508b3a",
   "metadata": {
    "execution": {
     "iopub.execute_input": "2022-02-27T15:24:42.169661Z",
     "iopub.status.busy": "2022-02-27T15:24:42.168982Z",
     "iopub.status.idle": "2022-02-27T15:24:42.171035Z",
     "shell.execute_reply": "2022-02-27T15:24:42.170496Z",
     "shell.execute_reply.started": "2022-02-27T15:01:45.475402Z"
    },
    "papermill": {
     "duration": 0.074521,
     "end_time": "2022-02-27T15:24:42.171179",
     "exception": false,
     "start_time": "2022-02-27T15:24:42.096658",
     "status": "completed"
    },
    "tags": []
   },
   "outputs": [],
   "source": [
    "from sklearn.linear_model import SGDRegressor, Ridge, Lasso"
   ]
  },
  {
   "cell_type": "markdown",
   "id": "310da3b8",
   "metadata": {
    "papermill": {
     "duration": 0.067012,
     "end_time": "2022-02-27T15:24:42.305845",
     "exception": false,
     "start_time": "2022-02-27T15:24:42.238833",
     "status": "completed"
    },
    "tags": []
   },
   "source": [
    "# SGD"
   ]
  },
  {
   "cell_type": "code",
   "execution_count": 41,
   "id": "55ee928d",
   "metadata": {
    "execution": {
     "iopub.execute_input": "2022-02-27T15:24:42.448966Z",
     "iopub.status.busy": "2022-02-27T15:24:42.448266Z",
     "iopub.status.idle": "2022-02-27T15:24:42.462020Z",
     "shell.execute_reply": "2022-02-27T15:24:42.462892Z",
     "shell.execute_reply.started": "2022-02-27T15:01:45.486842Z"
    },
    "papermill": {
     "duration": 0.090307,
     "end_time": "2022-02-27T15:24:42.463172",
     "exception": false,
     "start_time": "2022-02-27T15:24:42.372865",
     "status": "completed"
    },
    "tags": []
   },
   "outputs": [
    {
     "name": "stdout",
     "output_type": "stream",
     "text": [
      "Score train 0.7826574672012949\n",
      "Score val:  0.9038946495952943\n"
     ]
    }
   ],
   "source": [
    "SGD = SGDRegressor(alpha=0.09)\n",
    "SGD.fit(X_train,y_train_l)\n",
    "\n",
    "pr4 = np.expm1(SGD.predict(X_train))\n",
    "val4 = np.expm1(SGD.predict(X_valid))\n",
    "\n",
    "print('Score train', r2_score(y_train,pr4))\n",
    "print('Score val: ', r2_score(y_valid,val4))"
   ]
  },
  {
   "cell_type": "code",
   "execution_count": 42,
   "id": "cf80412c",
   "metadata": {
    "execution": {
     "iopub.execute_input": "2022-02-27T15:24:42.659801Z",
     "iopub.status.busy": "2022-02-27T15:24:42.659193Z",
     "iopub.status.idle": "2022-02-27T15:24:42.663197Z",
     "shell.execute_reply": "2022-02-27T15:24:42.663748Z",
     "shell.execute_reply.started": "2022-02-27T15:01:45.517802Z"
    },
    "papermill": {
     "duration": 0.077162,
     "end_time": "2022-02-27T15:24:42.663912",
     "exception": false,
     "start_time": "2022-02-27T15:24:42.586750",
     "status": "completed"
    },
    "tags": []
   },
   "outputs": [
    {
     "name": "stdout",
     "output_type": "stream",
     "text": [
      "RMSE for train:  37590.90604014994\n",
      "RMSE for valid:  23447.3107798304\n"
     ]
    }
   ],
   "source": [
    "print('RMSE for train: ', mean_squared_error(y_train,pr4,squared=False))\n",
    "print('RMSE for valid: ', mean_squared_error(y_valid,val4,squared=False))"
   ]
  },
  {
   "cell_type": "markdown",
   "id": "0c17c68b",
   "metadata": {
    "papermill": {
     "duration": 0.068416,
     "end_time": "2022-02-27T15:24:42.801956",
     "exception": false,
     "start_time": "2022-02-27T15:24:42.733540",
     "status": "completed"
    },
    "tags": []
   },
   "source": [
    "# Ridge"
   ]
  },
  {
   "cell_type": "code",
   "execution_count": 43,
   "id": "3f50c583",
   "metadata": {
    "execution": {
     "iopub.execute_input": "2022-02-27T15:24:42.945722Z",
     "iopub.status.busy": "2022-02-27T15:24:42.945082Z",
     "iopub.status.idle": "2022-02-27T15:24:42.960315Z",
     "shell.execute_reply": "2022-02-27T15:24:42.961322Z",
     "shell.execute_reply.started": "2022-02-27T15:01:45.528438Z"
    },
    "papermill": {
     "duration": 0.090637,
     "end_time": "2022-02-27T15:24:42.961591",
     "exception": false,
     "start_time": "2022-02-27T15:24:42.870954",
     "status": "completed"
    },
    "tags": []
   },
   "outputs": [
    {
     "name": "stdout",
     "output_type": "stream",
     "text": [
      "Score train 0.812638382959105\n",
      "Score val:  0.9003395940732806\n"
     ]
    }
   ],
   "source": [
    "ri = Ridge(alpha=1)\n",
    "ri.fit(X_train,y_train_l)\n",
    "\n",
    "pr5 = np.expm1(ri.predict(X_train))\n",
    "val5 = np.expm1(ri.predict(X_valid))\n",
    "\n",
    "print('Score train', r2_score(y_train,pr5))\n",
    "print('Score val: ', r2_score(y_valid,val5))"
   ]
  },
  {
   "cell_type": "code",
   "execution_count": 44,
   "id": "2ee96827",
   "metadata": {
    "execution": {
     "iopub.execute_input": "2022-02-27T15:24:43.162427Z",
     "iopub.status.busy": "2022-02-27T15:24:43.161797Z",
     "iopub.status.idle": "2022-02-27T15:24:43.164199Z",
     "shell.execute_reply": "2022-02-27T15:24:43.164660Z",
     "shell.execute_reply.started": "2022-02-27T15:01:45.550089Z"
    },
    "papermill": {
     "duration": 0.078266,
     "end_time": "2022-02-27T15:24:43.164822",
     "exception": false,
     "start_time": "2022-02-27T15:24:43.086556",
     "status": "completed"
    },
    "tags": []
   },
   "outputs": [
    {
     "name": "stdout",
     "output_type": "stream",
     "text": [
      "RMSE for train:  34902.03458767428\n",
      "RMSE for valid:  23877.045246944286\n"
     ]
    }
   ],
   "source": [
    "print('RMSE for train: ', mean_squared_error(y_train,pr5,squared=False))\n",
    "print('RMSE for valid: ', mean_squared_error(y_valid,val5,squared=False))"
   ]
  },
  {
   "cell_type": "markdown",
   "id": "85a6abdd",
   "metadata": {
    "papermill": {
     "duration": 0.068167,
     "end_time": "2022-02-27T15:24:43.301079",
     "exception": false,
     "start_time": "2022-02-27T15:24:43.232912",
     "status": "completed"
    },
    "tags": []
   },
   "source": [
    "# Lasso"
   ]
  },
  {
   "cell_type": "code",
   "execution_count": 45,
   "id": "1f16e825",
   "metadata": {
    "execution": {
     "iopub.execute_input": "2022-02-27T15:24:43.447308Z",
     "iopub.status.busy": "2022-02-27T15:24:43.446616Z",
     "iopub.status.idle": "2022-02-27T15:24:43.478858Z",
     "shell.execute_reply": "2022-02-27T15:24:43.479869Z",
     "shell.execute_reply.started": "2022-02-27T15:01:45.560326Z"
    },
    "papermill": {
     "duration": 0.107773,
     "end_time": "2022-02-27T15:24:43.480156",
     "exception": false,
     "start_time": "2022-02-27T15:24:43.372383",
     "status": "completed"
    },
    "tags": []
   },
   "outputs": [
    {
     "name": "stdout",
     "output_type": "stream",
     "text": [
      "Score train 0.8052607535510697\n",
      "Score val:  0.9016766165502377\n"
     ]
    }
   ],
   "source": [
    "la = Lasso(alpha=0.001)\n",
    "la.fit(X_train,y_train_l)\n",
    "\n",
    "pr6 = np.expm1(la.predict(X_train))\n",
    "val6 = np.expm1(la.predict(X_valid))\n",
    "\n",
    "print('Score train', r2_score(y_train,pr6))\n",
    "print('Score val: ', r2_score(y_valid,val6))"
   ]
  },
  {
   "cell_type": "code",
   "execution_count": 46,
   "id": "087a2680",
   "metadata": {
    "execution": {
     "iopub.execute_input": "2022-02-27T15:24:43.701452Z",
     "iopub.status.busy": "2022-02-27T15:24:43.700791Z",
     "iopub.status.idle": "2022-02-27T15:24:43.704619Z",
     "shell.execute_reply": "2022-02-27T15:24:43.703743Z",
     "shell.execute_reply.started": "2022-02-27T15:01:45.610751Z"
    },
    "papermill": {
     "duration": 0.079294,
     "end_time": "2022-02-27T15:24:43.704813",
     "exception": false,
     "start_time": "2022-02-27T15:24:43.625519",
     "status": "completed"
    },
    "tags": []
   },
   "outputs": [
    {
     "name": "stdout",
     "output_type": "stream",
     "text": [
      "RMSE for train:  35582.55867416735\n",
      "RMSE for valid:  23716.339789001016\n"
     ]
    }
   ],
   "source": [
    "print('RMSE for train: ', mean_squared_error(y_train,pr6,squared=False))\n",
    "print('RMSE for valid: ', mean_squared_error(y_valid,val6,squared=False))"
   ]
  },
  {
   "cell_type": "markdown",
   "id": "3d16705a",
   "metadata": {
    "papermill": {
     "duration": 0.070137,
     "end_time": "2022-02-27T15:24:43.846175",
     "exception": false,
     "start_time": "2022-02-27T15:24:43.776038",
     "status": "completed"
    },
    "tags": []
   },
   "source": [
    "# NN\n"
   ]
  },
  {
   "cell_type": "code",
   "execution_count": 47,
   "id": "b1f0ab5d",
   "metadata": {
    "execution": {
     "iopub.execute_input": "2022-02-27T15:24:43.990415Z",
     "iopub.status.busy": "2022-02-27T15:24:43.989785Z",
     "iopub.status.idle": "2022-02-27T15:24:49.931456Z",
     "shell.execute_reply": "2022-02-27T15:24:49.930923Z",
     "shell.execute_reply.started": "2022-02-27T15:09:56.053008Z"
    },
    "papermill": {
     "duration": 6.015538,
     "end_time": "2022-02-27T15:24:49.931606",
     "exception": false,
     "start_time": "2022-02-27T15:24:43.916068",
     "status": "completed"
    },
    "tags": []
   },
   "outputs": [],
   "source": [
    "from tensorflow import keras\n",
    "from tensorflow.keras import layers\n",
    "from tensorflow.keras.callbacks import EarlyStopping"
   ]
  },
  {
   "cell_type": "code",
   "execution_count": 48,
   "id": "cb863660",
   "metadata": {
    "execution": {
     "iopub.execute_input": "2022-02-27T15:24:50.075917Z",
     "iopub.status.busy": "2022-02-27T15:24:50.074969Z",
     "iopub.status.idle": "2022-02-27T15:24:57.513998Z",
     "shell.execute_reply": "2022-02-27T15:24:57.514438Z",
     "shell.execute_reply.started": "2022-02-27T15:10:49.021436Z"
    },
    "papermill": {
     "duration": 7.51163,
     "end_time": "2022-02-27T15:24:57.514613",
     "exception": false,
     "start_time": "2022-02-27T15:24:50.002983",
     "status": "completed"
    },
    "tags": []
   },
   "outputs": [
    {
     "name": "stderr",
     "output_type": "stream",
     "text": [
      "2022-02-27 15:24:50.117859: I tensorflow/core/common_runtime/process_util.cc:146] Creating new thread pool with default inter op setting: 2. Tune using inter_op_parallelism_threads for best performance.\n",
      "2022-02-27 15:24:50.278328: I tensorflow/compiler/mlir/mlir_graph_optimization_pass.cc:185] None of the MLIR Optimization Passes are enabled (registered 2)\n"
     ]
    },
    {
     "name": "stdout",
     "output_type": "stream",
     "text": [
      "Epoch 1/200\n",
      "14/14 [==============================] - 1s 2ms/step - loss: 142.9404\n",
      "Epoch 2/200\n",
      "14/14 [==============================] - 0s 2ms/step - loss: 140.0611\n",
      "Epoch 3/200\n",
      "14/14 [==============================] - 0s 2ms/step - loss: 135.0637\n",
      "Epoch 4/200\n",
      "14/14 [==============================] - 0s 2ms/step - loss: 127.9386\n",
      "Epoch 5/200\n",
      "14/14 [==============================] - 0s 2ms/step - loss: 118.6605\n",
      "Epoch 6/200\n",
      "14/14 [==============================] - 0s 2ms/step - loss: 106.4193\n",
      "Epoch 7/200\n",
      "14/14 [==============================] - 0s 2ms/step - loss: 91.3453\n",
      "Epoch 8/200\n",
      "14/14 [==============================] - 0s 2ms/step - loss: 75.3966\n",
      "Epoch 9/200\n",
      "14/14 [==============================] - 0s 2ms/step - loss: 60.6993\n",
      "Epoch 10/200\n",
      "14/14 [==============================] - 0s 2ms/step - loss: 48.5708\n",
      "Epoch 11/200\n",
      "14/14 [==============================] - 0s 2ms/step - loss: 38.8190\n",
      "Epoch 12/200\n",
      "14/14 [==============================] - 0s 2ms/step - loss: 31.1490\n",
      "Epoch 13/200\n",
      "14/14 [==============================] - 0s 2ms/step - loss: 25.0932\n",
      "Epoch 14/200\n",
      "14/14 [==============================] - 0s 2ms/step - loss: 20.6149\n",
      "Epoch 15/200\n",
      "14/14 [==============================] - 0s 2ms/step - loss: 17.3642\n",
      "Epoch 16/200\n",
      "14/14 [==============================] - 0s 2ms/step - loss: 14.7343\n",
      "Epoch 17/200\n",
      "14/14 [==============================] - 0s 2ms/step - loss: 12.3832\n",
      "Epoch 18/200\n",
      "14/14 [==============================] - 0s 2ms/step - loss: 10.5442\n",
      "Epoch 19/200\n",
      "14/14 [==============================] - 0s 2ms/step - loss: 9.1070\n",
      "Epoch 20/200\n",
      "14/14 [==============================] - 0s 2ms/step - loss: 7.8698\n",
      "Epoch 21/200\n",
      "14/14 [==============================] - 0s 2ms/step - loss: 6.8611\n",
      "Epoch 22/200\n",
      "14/14 [==============================] - 0s 2ms/step - loss: 6.0575\n",
      "Epoch 23/200\n",
      "14/14 [==============================] - 0s 2ms/step - loss: 5.4341\n",
      "Epoch 24/200\n",
      "14/14 [==============================] - 0s 2ms/step - loss: 4.8904\n",
      "Epoch 25/200\n",
      "14/14 [==============================] - 0s 2ms/step - loss: 4.4671\n",
      "Epoch 26/200\n",
      "14/14 [==============================] - 0s 2ms/step - loss: 4.1371\n",
      "Epoch 27/200\n",
      "14/14 [==============================] - 0s 2ms/step - loss: 3.8536\n",
      "Epoch 28/200\n",
      "14/14 [==============================] - 0s 2ms/step - loss: 3.6307\n",
      "Epoch 29/200\n",
      "14/14 [==============================] - 0s 3ms/step - loss: 3.4403\n",
      "Epoch 30/200\n",
      "14/14 [==============================] - 0s 2ms/step - loss: 3.2833\n",
      "Epoch 31/200\n",
      "14/14 [==============================] - 0s 2ms/step - loss: 3.1457\n",
      "Epoch 32/200\n",
      "14/14 [==============================] - 0s 2ms/step - loss: 3.0282\n",
      "Epoch 33/200\n",
      "14/14 [==============================] - 0s 2ms/step - loss: 2.9111\n",
      "Epoch 34/200\n",
      "14/14 [==============================] - 0s 2ms/step - loss: 2.8158\n",
      "Epoch 35/200\n",
      "14/14 [==============================] - 0s 2ms/step - loss: 2.7217\n",
      "Epoch 36/200\n",
      "14/14 [==============================] - 0s 2ms/step - loss: 2.6365\n",
      "Epoch 37/200\n",
      "14/14 [==============================] - 0s 2ms/step - loss: 2.5556\n",
      "Epoch 38/200\n",
      "14/14 [==============================] - 0s 2ms/step - loss: 2.4836\n",
      "Epoch 39/200\n",
      "14/14 [==============================] - 0s 2ms/step - loss: 2.4146\n",
      "Epoch 40/200\n",
      "14/14 [==============================] - 0s 2ms/step - loss: 2.3475\n",
      "Epoch 41/200\n",
      "14/14 [==============================] - 0s 2ms/step - loss: 2.2872\n",
      "Epoch 42/200\n",
      "14/14 [==============================] - 0s 2ms/step - loss: 2.2344\n",
      "Epoch 43/200\n",
      "14/14 [==============================] - 0s 2ms/step - loss: 2.1813\n",
      "Epoch 44/200\n",
      "14/14 [==============================] - 0s 2ms/step - loss: 2.1316\n",
      "Epoch 45/200\n",
      "14/14 [==============================] - 0s 2ms/step - loss: 2.0920\n",
      "Epoch 46/200\n",
      "14/14 [==============================] - 0s 2ms/step - loss: 2.0354\n",
      "Epoch 47/200\n",
      "14/14 [==============================] - 0s 2ms/step - loss: 1.9945\n",
      "Epoch 48/200\n",
      "14/14 [==============================] - 0s 2ms/step - loss: 1.9450\n",
      "Epoch 49/200\n",
      "14/14 [==============================] - 0s 2ms/step - loss: 1.9092\n",
      "Epoch 50/200\n",
      "14/14 [==============================] - 0s 2ms/step - loss: 1.8678\n",
      "Epoch 51/200\n",
      "14/14 [==============================] - 0s 2ms/step - loss: 1.8300\n",
      "Epoch 52/200\n",
      "14/14 [==============================] - 0s 6ms/step - loss: 1.7934\n",
      "Epoch 53/200\n",
      "14/14 [==============================] - 0s 3ms/step - loss: 1.7592\n",
      "Epoch 54/200\n",
      "14/14 [==============================] - 0s 2ms/step - loss: 1.7281\n",
      "Epoch 55/200\n",
      "14/14 [==============================] - 0s 2ms/step - loss: 1.6924\n",
      "Epoch 56/200\n",
      "14/14 [==============================] - 0s 2ms/step - loss: 1.6570\n",
      "Epoch 57/200\n",
      "14/14 [==============================] - 0s 2ms/step - loss: 1.6271\n",
      "Epoch 58/200\n",
      "14/14 [==============================] - 0s 2ms/step - loss: 1.5950\n",
      "Epoch 59/200\n",
      "14/14 [==============================] - 0s 2ms/step - loss: 1.5669\n",
      "Epoch 60/200\n",
      "14/14 [==============================] - 0s 2ms/step - loss: 1.5395\n",
      "Epoch 61/200\n",
      "14/14 [==============================] - 0s 2ms/step - loss: 1.5100\n",
      "Epoch 62/200\n",
      "14/14 [==============================] - 0s 2ms/step - loss: 1.4884\n",
      "Epoch 63/200\n",
      "14/14 [==============================] - 0s 2ms/step - loss: 1.4621\n",
      "Epoch 64/200\n",
      "14/14 [==============================] - 0s 2ms/step - loss: 1.4361\n",
      "Epoch 65/200\n",
      "14/14 [==============================] - 0s 2ms/step - loss: 1.4135\n",
      "Epoch 66/200\n",
      "14/14 [==============================] - 0s 2ms/step - loss: 1.3918\n",
      "Epoch 67/200\n",
      "14/14 [==============================] - 0s 2ms/step - loss: 1.3649\n",
      "Epoch 68/200\n",
      "14/14 [==============================] - 0s 2ms/step - loss: 1.3439\n",
      "Epoch 69/200\n",
      "14/14 [==============================] - 0s 2ms/step - loss: 1.3246\n",
      "Epoch 70/200\n",
      "14/14 [==============================] - 0s 2ms/step - loss: 1.3052\n",
      "Epoch 71/200\n",
      "14/14 [==============================] - 0s 2ms/step - loss: 1.2794\n",
      "Epoch 72/200\n",
      "14/14 [==============================] - 0s 2ms/step - loss: 1.2631\n",
      "Epoch 73/200\n",
      "14/14 [==============================] - 0s 2ms/step - loss: 1.2397\n",
      "Epoch 74/200\n",
      "14/14 [==============================] - 0s 2ms/step - loss: 1.2214\n",
      "Epoch 75/200\n",
      "14/14 [==============================] - 0s 2ms/step - loss: 1.2021\n",
      "Epoch 76/200\n",
      "14/14 [==============================] - 0s 2ms/step - loss: 1.1844\n",
      "Epoch 77/200\n",
      "14/14 [==============================] - 0s 2ms/step - loss: 1.1659\n",
      "Epoch 78/200\n",
      "14/14 [==============================] - 0s 2ms/step - loss: 1.1479\n",
      "Epoch 79/200\n",
      "14/14 [==============================] - 0s 2ms/step - loss: 1.1296\n",
      "Epoch 80/200\n",
      "14/14 [==============================] - 0s 2ms/step - loss: 1.1139\n",
      "Epoch 81/200\n",
      "14/14 [==============================] - 0s 2ms/step - loss: 1.0970\n",
      "Epoch 82/200\n",
      "14/14 [==============================] - 0s 2ms/step - loss: 1.0818\n",
      "Epoch 83/200\n",
      "14/14 [==============================] - 0s 2ms/step - loss: 1.0648\n",
      "Epoch 84/200\n",
      "14/14 [==============================] - 0s 2ms/step - loss: 1.0498\n",
      "Epoch 85/200\n",
      "14/14 [==============================] - 0s 2ms/step - loss: 1.0368\n",
      "Epoch 86/200\n",
      "14/14 [==============================] - 0s 2ms/step - loss: 1.0237\n",
      "Epoch 87/200\n",
      "14/14 [==============================] - 0s 2ms/step - loss: 1.0098\n",
      "Epoch 88/200\n",
      "14/14 [==============================] - 0s 2ms/step - loss: 0.9933\n",
      "Epoch 89/200\n",
      "14/14 [==============================] - 0s 2ms/step - loss: 0.9779\n",
      "Epoch 90/200\n",
      "14/14 [==============================] - 0s 2ms/step - loss: 0.9649\n",
      "Epoch 91/200\n",
      "14/14 [==============================] - 0s 2ms/step - loss: 0.9493\n",
      "Epoch 92/200\n",
      "14/14 [==============================] - 0s 2ms/step - loss: 0.9351\n",
      "Epoch 93/200\n",
      "14/14 [==============================] - 0s 2ms/step - loss: 0.9212\n",
      "Epoch 94/200\n",
      "14/14 [==============================] - 0s 2ms/step - loss: 0.9068\n",
      "Epoch 95/200\n",
      "14/14 [==============================] - 0s 2ms/step - loss: 0.8954\n",
      "Epoch 96/200\n",
      "14/14 [==============================] - 0s 2ms/step - loss: 0.8825\n",
      "Epoch 97/200\n",
      "14/14 [==============================] - 0s 2ms/step - loss: 0.8723\n",
      "Epoch 98/200\n",
      "14/14 [==============================] - 0s 2ms/step - loss: 0.8578\n",
      "Epoch 99/200\n",
      "14/14 [==============================] - 0s 2ms/step - loss: 0.8446\n",
      "Epoch 100/200\n",
      "14/14 [==============================] - 0s 2ms/step - loss: 0.8330\n",
      "Epoch 101/200\n",
      "14/14 [==============================] - 0s 2ms/step - loss: 0.8234\n",
      "Epoch 102/200\n",
      "14/14 [==============================] - 0s 2ms/step - loss: 0.8113\n",
      "Epoch 103/200\n",
      "14/14 [==============================] - 0s 2ms/step - loss: 0.7982\n",
      "Epoch 104/200\n",
      "14/14 [==============================] - 0s 2ms/step - loss: 0.7866\n",
      "Epoch 105/200\n",
      "14/14 [==============================] - 0s 2ms/step - loss: 0.7761\n",
      "Epoch 106/200\n",
      "14/14 [==============================] - 0s 2ms/step - loss: 0.7645\n",
      "Epoch 107/200\n",
      "14/14 [==============================] - 0s 2ms/step - loss: 0.7547\n",
      "Epoch 108/200\n",
      "14/14 [==============================] - 0s 2ms/step - loss: 0.7415\n",
      "Epoch 109/200\n",
      "14/14 [==============================] - 0s 2ms/step - loss: 0.7382\n",
      "Epoch 110/200\n",
      "14/14 [==============================] - 0s 2ms/step - loss: 0.7202\n",
      "Epoch 111/200\n",
      "14/14 [==============================] - 0s 2ms/step - loss: 0.7103\n",
      "Epoch 112/200\n",
      "14/14 [==============================] - 0s 2ms/step - loss: 0.7043\n",
      "Epoch 113/200\n",
      "14/14 [==============================] - 0s 2ms/step - loss: 0.6936\n",
      "Epoch 114/200\n",
      "14/14 [==============================] - 0s 2ms/step - loss: 0.6825\n",
      "Epoch 115/200\n",
      "14/14 [==============================] - 0s 2ms/step - loss: 0.6733\n",
      "Epoch 116/200\n",
      "14/14 [==============================] - 0s 2ms/step - loss: 0.6642\n",
      "Epoch 117/200\n",
      "14/14 [==============================] - 0s 2ms/step - loss: 0.6565\n",
      "Epoch 118/200\n",
      "14/14 [==============================] - 0s 2ms/step - loss: 0.6458\n",
      "Epoch 119/200\n",
      "14/14 [==============================] - 0s 2ms/step - loss: 0.6400\n",
      "Epoch 120/200\n",
      "14/14 [==============================] - 0s 2ms/step - loss: 0.6302\n",
      "Epoch 121/200\n",
      "14/14 [==============================] - 0s 2ms/step - loss: 0.6198\n",
      "Epoch 122/200\n",
      "14/14 [==============================] - 0s 2ms/step - loss: 0.6125\n",
      "Epoch 123/200\n",
      "14/14 [==============================] - 0s 2ms/step - loss: 0.6050\n",
      "Epoch 124/200\n",
      "14/14 [==============================] - 0s 2ms/step - loss: 0.5976\n",
      "Epoch 125/200\n",
      "14/14 [==============================] - 0s 2ms/step - loss: 0.5903\n",
      "Epoch 126/200\n",
      "14/14 [==============================] - 0s 2ms/step - loss: 0.5820\n",
      "Epoch 127/200\n",
      "14/14 [==============================] - 0s 2ms/step - loss: 0.5748\n",
      "Epoch 128/200\n",
      "14/14 [==============================] - 0s 2ms/step - loss: 0.5658\n",
      "Epoch 129/200\n",
      "14/14 [==============================] - 0s 2ms/step - loss: 0.5592\n",
      "Epoch 130/200\n",
      "14/14 [==============================] - 0s 2ms/step - loss: 0.5522\n",
      "Epoch 131/200\n",
      "14/14 [==============================] - 0s 2ms/step - loss: 0.5469\n",
      "Epoch 132/200\n",
      "14/14 [==============================] - 0s 2ms/step - loss: 0.5397\n",
      "Epoch 133/200\n",
      "14/14 [==============================] - 0s 2ms/step - loss: 0.5327\n",
      "Epoch 134/200\n",
      "14/14 [==============================] - 0s 2ms/step - loss: 0.5262\n",
      "Epoch 135/200\n",
      "14/14 [==============================] - 0s 2ms/step - loss: 0.5178\n",
      "Epoch 136/200\n",
      "14/14 [==============================] - 0s 2ms/step - loss: 0.5136\n",
      "Epoch 137/200\n",
      "14/14 [==============================] - 0s 2ms/step - loss: 0.5075\n",
      "Epoch 138/200\n",
      "14/14 [==============================] - 0s 2ms/step - loss: 0.5003\n",
      "Epoch 139/200\n",
      "14/14 [==============================] - 0s 2ms/step - loss: 0.4947\n",
      "Epoch 140/200\n",
      "14/14 [==============================] - 0s 2ms/step - loss: 0.4886\n",
      "Epoch 141/200\n",
      "14/14 [==============================] - 0s 2ms/step - loss: 0.4843\n",
      "Epoch 142/200\n",
      "14/14 [==============================] - 0s 2ms/step - loss: 0.4788\n",
      "Epoch 143/200\n",
      "14/14 [==============================] - 0s 2ms/step - loss: 0.4716\n",
      "Epoch 144/200\n",
      "14/14 [==============================] - 0s 2ms/step - loss: 0.4653\n",
      "Epoch 145/200\n",
      "14/14 [==============================] - 0s 2ms/step - loss: 0.4603\n",
      "Epoch 146/200\n",
      "14/14 [==============================] - 0s 2ms/step - loss: 0.4557\n",
      "Epoch 147/200\n",
      "14/14 [==============================] - 0s 2ms/step - loss: 0.4482\n",
      "Epoch 148/200\n",
      "14/14 [==============================] - 0s 2ms/step - loss: 0.4434\n",
      "Epoch 149/200\n",
      "14/14 [==============================] - 0s 3ms/step - loss: 0.4383\n",
      "Epoch 150/200\n",
      "14/14 [==============================] - 0s 2ms/step - loss: 0.4345\n",
      "Epoch 151/200\n",
      "14/14 [==============================] - 0s 2ms/step - loss: 0.4286\n",
      "Epoch 152/200\n",
      "14/14 [==============================] - 0s 3ms/step - loss: 0.4261\n",
      "Epoch 153/200\n",
      "14/14 [==============================] - 0s 2ms/step - loss: 0.4200\n",
      "Epoch 154/200\n",
      "14/14 [==============================] - 0s 2ms/step - loss: 0.4160\n",
      "Epoch 155/200\n",
      "14/14 [==============================] - 0s 2ms/step - loss: 0.4094\n",
      "Epoch 156/200\n",
      "14/14 [==============================] - 0s 2ms/step - loss: 0.4040\n",
      "Epoch 157/200\n",
      "14/14 [==============================] - 0s 2ms/step - loss: 0.3998\n",
      "Epoch 158/200\n",
      "14/14 [==============================] - 0s 2ms/step - loss: 0.3963\n",
      "Epoch 159/200\n",
      "14/14 [==============================] - 0s 2ms/step - loss: 0.3924\n",
      "Epoch 160/200\n",
      "14/14 [==============================] - 0s 2ms/step - loss: 0.3870\n",
      "Epoch 161/200\n",
      "14/14 [==============================] - 0s 2ms/step - loss: 0.3832\n",
      "Epoch 162/200\n",
      "14/14 [==============================] - 0s 2ms/step - loss: 0.3820\n",
      "Epoch 163/200\n",
      "14/14 [==============================] - 0s 2ms/step - loss: 0.3764\n",
      "Epoch 164/200\n",
      "14/14 [==============================] - 0s 2ms/step - loss: 0.3701\n",
      "Epoch 165/200\n",
      "14/14 [==============================] - 0s 2ms/step - loss: 0.3684\n",
      "Epoch 166/200\n",
      "14/14 [==============================] - 0s 2ms/step - loss: 0.3649\n",
      "Epoch 167/200\n",
      "14/14 [==============================] - 0s 2ms/step - loss: 0.3590\n",
      "Epoch 168/200\n",
      "14/14 [==============================] - 0s 2ms/step - loss: 0.3550\n",
      "Epoch 169/200\n",
      "14/14 [==============================] - 0s 2ms/step - loss: 0.3504\n",
      "Epoch 170/200\n",
      "14/14 [==============================] - 0s 2ms/step - loss: 0.3503\n",
      "Epoch 171/200\n",
      "14/14 [==============================] - 0s 2ms/step - loss: 0.3445\n",
      "Epoch 172/200\n",
      "14/14 [==============================] - 0s 2ms/step - loss: 0.3432\n",
      "Epoch 173/200\n",
      "14/14 [==============================] - 0s 2ms/step - loss: 0.3390\n",
      "Epoch 174/200\n",
      "14/14 [==============================] - 0s 2ms/step - loss: 0.3345\n",
      "Epoch 175/200\n",
      "14/14 [==============================] - 0s 2ms/step - loss: 0.3306\n",
      "Epoch 176/200\n",
      "14/14 [==============================] - 0s 4ms/step - loss: 0.3265\n",
      "Epoch 177/200\n",
      "14/14 [==============================] - 0s 5ms/step - loss: 0.3229\n",
      "Epoch 178/200\n",
      "14/14 [==============================] - 0s 3ms/step - loss: 0.3209\n",
      "Epoch 179/200\n",
      "14/14 [==============================] - 0s 5ms/step - loss: 0.3171\n",
      "Epoch 180/200\n",
      "14/14 [==============================] - 0s 2ms/step - loss: 0.3145\n",
      "Epoch 181/200\n",
      "14/14 [==============================] - 0s 5ms/step - loss: 0.3121\n",
      "Epoch 182/200\n",
      "14/14 [==============================] - 0s 4ms/step - loss: 0.3074\n",
      "Epoch 183/200\n",
      "14/14 [==============================] - 0s 3ms/step - loss: 0.3041\n",
      "Epoch 184/200\n",
      "14/14 [==============================] - 0s 2ms/step - loss: 0.3018\n",
      "Epoch 185/200\n",
      "14/14 [==============================] - 0s 3ms/step - loss: 0.3002\n",
      "Epoch 186/200\n",
      "14/14 [==============================] - 0s 4ms/step - loss: 0.2973\n",
      "Epoch 187/200\n",
      "14/14 [==============================] - 0s 5ms/step - loss: 0.2930\n",
      "Epoch 188/200\n",
      "14/14 [==============================] - 0s 2ms/step - loss: 0.2923\n",
      "Epoch 189/200\n",
      "14/14 [==============================] - 0s 2ms/step - loss: 0.2883\n",
      "Epoch 190/200\n",
      "14/14 [==============================] - 0s 2ms/step - loss: 0.2825\n",
      "Epoch 191/200\n",
      "14/14 [==============================] - 0s 2ms/step - loss: 0.2798\n",
      "Epoch 192/200\n",
      "14/14 [==============================] - 0s 2ms/step - loss: 0.2785\n",
      "Epoch 193/200\n",
      "14/14 [==============================] - 0s 2ms/step - loss: 0.2756\n",
      "Epoch 194/200\n",
      "14/14 [==============================] - 0s 3ms/step - loss: 0.2719\n",
      "Epoch 195/200\n",
      "14/14 [==============================] - 0s 2ms/step - loss: 0.2695\n",
      "Epoch 196/200\n",
      "14/14 [==============================] - 0s 2ms/step - loss: 0.2658\n",
      "Epoch 197/200\n",
      "14/14 [==============================] - 0s 2ms/step - loss: 0.2628\n",
      "Epoch 198/200\n",
      "14/14 [==============================] - 0s 2ms/step - loss: 0.2615\n",
      "Epoch 199/200\n",
      "14/14 [==============================] - 0s 2ms/step - loss: 0.2587\n",
      "Epoch 200/200\n",
      "14/14 [==============================] - 0s 2ms/step - loss: 0.2577\n"
     ]
    },
    {
     "data": {
      "text/plain": [
       "<keras.callbacks.History at 0x7fbe8b4adf10>"
      ]
     },
     "execution_count": 48,
     "metadata": {},
     "output_type": "execute_result"
    }
   ],
   "source": [
    "# Neural Netwrok\n",
    "\n",
    "DNN = keras.Sequential([\n",
    "    layers.Dense(16, activation = 'relu', input_shape = (54,)),\n",
    "    layers.Dense(8, activation = 'relu'),\n",
    "    layers.Dense(1, activation = 'relu')\n",
    "])\n",
    "\n",
    "early_stopping = EarlyStopping(\n",
    "    min_delta = 0.001,\n",
    "    patience = 5,\n",
    "    restore_best_weights = True\n",
    ")\n",
    "\n",
    "DNN.compile(\n",
    "    optimizer = 'adam',\n",
    "    loss = 'mse'\n",
    ")\n",
    "\n",
    "DNN.fit(\n",
    "    X_train, y_train_l,\n",
    "    batch_size = 80,\n",
    "    epochs = 200,\n",
    "    callbacks=[early_stopping]\n",
    ")\n"
   ]
  },
  {
   "cell_type": "code",
   "execution_count": 49,
   "id": "50648f74",
   "metadata": {
    "execution": {
     "iopub.execute_input": "2022-02-27T15:24:57.901618Z",
     "iopub.status.busy": "2022-02-27T15:24:57.900531Z",
     "iopub.status.idle": "2022-02-27T15:24:58.052365Z",
     "shell.execute_reply": "2022-02-27T15:24:58.051781Z",
     "shell.execute_reply.started": "2022-02-27T15:16:47.292789Z"
    },
    "papermill": {
     "duration": 0.347775,
     "end_time": "2022-02-27T15:24:58.052517",
     "exception": false,
     "start_time": "2022-02-27T15:24:57.704742",
     "status": "completed"
    },
    "tags": []
   },
   "outputs": [],
   "source": [
    "NN = np.expm1(DNN.predict(X_valid)) # Very bad approach"
   ]
  },
  {
   "cell_type": "markdown",
   "id": "902c7002",
   "metadata": {
    "papermill": {
     "duration": 0.188312,
     "end_time": "2022-02-27T15:24:58.437572",
     "exception": false,
     "start_time": "2022-02-27T15:24:58.249260",
     "status": "completed"
    },
    "tags": []
   },
   "source": [
    "# So the highest accurecy model we found is SVR but maybe i wont use it because te weird value on train data"
   ]
  },
  {
   "cell_type": "markdown",
   "id": "745c830b",
   "metadata": {
    "papermill": {
     "duration": 0.189108,
     "end_time": "2022-02-27T15:24:58.819757",
     "exception": false,
     "start_time": "2022-02-27T15:24:58.630649",
     "status": "completed"
    },
    "tags": []
   },
   "source": [
    "# I'll start to make the same preprocessing on the test data "
   ]
  },
  {
   "cell_type": "code",
   "execution_count": 50,
   "id": "17bd78e3",
   "metadata": {
    "execution": {
     "iopub.execute_input": "2022-02-27T15:24:59.210408Z",
     "iopub.status.busy": "2022-02-27T15:24:59.207917Z",
     "iopub.status.idle": "2022-02-27T15:24:59.250570Z",
     "shell.execute_reply": "2022-02-27T15:24:59.249958Z",
     "shell.execute_reply.started": "2022-02-27T15:01:45.725634Z"
    },
    "papermill": {
     "duration": 0.239904,
     "end_time": "2022-02-27T15:24:59.250729",
     "exception": false,
     "start_time": "2022-02-27T15:24:59.010825",
     "status": "completed"
    },
    "tags": []
   },
   "outputs": [],
   "source": [
    "house_test[Numlist1] = house_test[Numlist1].apply(numeric_map1)\n",
    "house_test[Numlist2] = house_test[Numlist2].apply(numeric_map2)\n",
    "house_test[Numlist3] = house_test[Numlist3].apply(numeric_map3)\n",
    "house_test[Numlist4] = house_test[Numlist4].apply(numeric_map4)\n",
    "house_test[Numlist5] = house_test[Numlist5].apply(numeric_map5)\n",
    "house_test[Numlist6] = house_test[Numlist6].apply(numeric_map6)\n",
    "house_test[Numlist7] = house_test[Numlist7].apply(numeric_map7)\n",
    "house_test[Numlist8] = house_test[Numlist8].apply(numeric_map8)\n",
    "house_test[Numlist9] = house_test[Numlist9].apply(numeric_map9)\n",
    "house_test[Numlist10] = house_test[Numlist10].apply(numeric_map10)"
   ]
  },
  {
   "cell_type": "code",
   "execution_count": 51,
   "id": "648a9399",
   "metadata": {
    "execution": {
     "iopub.execute_input": "2022-02-27T15:24:59.639129Z",
     "iopub.status.busy": "2022-02-27T15:24:59.637551Z",
     "iopub.status.idle": "2022-02-27T15:24:59.642481Z",
     "shell.execute_reply": "2022-02-27T15:24:59.642921Z",
     "shell.execute_reply.started": "2022-02-27T15:01:45.727991Z"
    },
    "papermill": {
     "duration": 0.201925,
     "end_time": "2022-02-27T15:24:59.643094",
     "exception": false,
     "start_time": "2022-02-27T15:24:59.441169",
     "status": "completed"
    },
    "tags": []
   },
   "outputs": [
    {
     "data": {
      "text/plain": [
       "['MSSubClass',\n",
       " 'LotFrontage',\n",
       " 'LotArea',\n",
       " 'LotShape',\n",
       " 'LandSlope',\n",
       " 'OverallQual',\n",
       " 'OverallCond',\n",
       " 'YearBuilt',\n",
       " 'YearRemodAdd',\n",
       " 'MasVnrArea',\n",
       " 'ExterQual',\n",
       " 'ExterCond',\n",
       " 'BsmtQual',\n",
       " 'BsmtCond',\n",
       " 'BsmtExposure',\n",
       " 'BsmtFinType1',\n",
       " 'BsmtFinSF1',\n",
       " 'BsmtFinType2',\n",
       " 'BsmtFinSF2',\n",
       " 'BsmtUnfSF',\n",
       " 'TotalBsmtSF',\n",
       " 'HeatingQC',\n",
       " '1stFlrSF',\n",
       " '2ndFlrSF',\n",
       " 'LowQualFinSF',\n",
       " 'GrLivArea',\n",
       " 'BsmtFullBath',\n",
       " 'BsmtHalfBath',\n",
       " 'FullBath',\n",
       " 'HalfBath',\n",
       " 'BedroomAbvGr',\n",
       " 'KitchenAbvGr',\n",
       " 'KitchenQual',\n",
       " 'TotRmsAbvGrd',\n",
       " 'Functional',\n",
       " 'Fireplaces',\n",
       " 'FireplaceQu',\n",
       " 'GarageYrBlt',\n",
       " 'GarageFinish',\n",
       " 'GarageCars',\n",
       " 'GarageArea',\n",
       " 'GarageQual',\n",
       " 'GarageCond',\n",
       " 'WoodDeckSF',\n",
       " 'OpenPorchSF',\n",
       " 'EnclosedPorch',\n",
       " '3SsnPorch',\n",
       " 'ScreenPorch',\n",
       " 'PoolArea',\n",
       " 'PoolQC',\n",
       " 'Fence',\n",
       " 'MiscVal',\n",
       " 'MoSold',\n",
       " 'YrSold']"
      ]
     },
     "execution_count": 51,
     "metadata": {},
     "output_type": "execute_result"
    }
   ],
   "source": [
    "# Extracting only numeric features for test\n",
    "columns_test = house_test.columns\n",
    "numeric_columns_test = []\n",
    "for column in columns_test:\n",
    "    if house_test[column].dtype != object :\n",
    "        numeric_columns_test.append(column)\n",
    "        \n",
    "numeric_columns_test"
   ]
  },
  {
   "cell_type": "code",
   "execution_count": 52,
   "id": "49f6a6ac",
   "metadata": {
    "execution": {
     "iopub.execute_input": "2022-02-27T15:25:00.027177Z",
     "iopub.status.busy": "2022-02-27T15:25:00.026565Z",
     "iopub.status.idle": "2022-02-27T15:25:00.028824Z",
     "shell.execute_reply": "2022-02-27T15:25:00.029257Z",
     "shell.execute_reply.started": "2022-02-27T15:01:45.730223Z"
    },
    "papermill": {
     "duration": 0.197178,
     "end_time": "2022-02-27T15:25:00.029455",
     "exception": false,
     "start_time": "2022-02-27T15:24:59.832277",
     "status": "completed"
    },
    "tags": []
   },
   "outputs": [],
   "source": [
    "test_data = house_test[numeric_columns_test]"
   ]
  },
  {
   "cell_type": "code",
   "execution_count": 53,
   "id": "f55df532",
   "metadata": {
    "execution": {
     "iopub.execute_input": "2022-02-27T15:25:00.412039Z",
     "iopub.status.busy": "2022-02-27T15:25:00.411450Z",
     "iopub.status.idle": "2022-02-27T15:25:00.418870Z",
     "shell.execute_reply": "2022-02-27T15:25:00.419350Z",
     "shell.execute_reply.started": "2022-02-27T15:01:45.731492Z"
    },
    "papermill": {
     "duration": 0.201075,
     "end_time": "2022-02-27T15:25:00.419552",
     "exception": false,
     "start_time": "2022-02-27T15:25:00.218477",
     "status": "completed"
    },
    "tags": []
   },
   "outputs": [
    {
     "data": {
      "text/plain": [
       "MSSubClass         0\n",
       "LotFrontage      227\n",
       "LotArea            0\n",
       "LotShape           0\n",
       "LandSlope          0\n",
       "OverallQual        0\n",
       "OverallCond        0\n",
       "YearBuilt          0\n",
       "YearRemodAdd       0\n",
       "MasVnrArea        15\n",
       "ExterQual          0\n",
       "ExterCond          0\n",
       "BsmtQual           0\n",
       "BsmtCond           0\n",
       "BsmtExposure       0\n",
       "BsmtFinType1       0\n",
       "BsmtFinSF1         1\n",
       "BsmtFinType2       0\n",
       "BsmtFinSF2         1\n",
       "BsmtUnfSF          1\n",
       "TotalBsmtSF        1\n",
       "HeatingQC          0\n",
       "1stFlrSF           0\n",
       "2ndFlrSF           0\n",
       "LowQualFinSF       0\n",
       "GrLivArea          0\n",
       "BsmtFullBath       2\n",
       "BsmtHalfBath       2\n",
       "FullBath           0\n",
       "HalfBath           0\n",
       "BedroomAbvGr       0\n",
       "KitchenAbvGr       0\n",
       "KitchenQual        1\n",
       "TotRmsAbvGrd       0\n",
       "Functional         2\n",
       "Fireplaces         0\n",
       "FireplaceQu        0\n",
       "GarageYrBlt       78\n",
       "GarageFinish       0\n",
       "GarageCars         1\n",
       "GarageArea         1\n",
       "GarageQual         0\n",
       "GarageCond         0\n",
       "WoodDeckSF         0\n",
       "OpenPorchSF        0\n",
       "EnclosedPorch      0\n",
       "3SsnPorch          0\n",
       "ScreenPorch        0\n",
       "PoolArea           0\n",
       "PoolQC             0\n",
       "Fence              0\n",
       "MiscVal            0\n",
       "MoSold             0\n",
       "YrSold             0\n",
       "dtype: int64"
      ]
     },
     "execution_count": 53,
     "metadata": {},
     "output_type": "execute_result"
    }
   ],
   "source": [
    "test_data.isnull().sum()"
   ]
  },
  {
   "cell_type": "code",
   "execution_count": 54,
   "id": "0ee72234",
   "metadata": {
    "execution": {
     "iopub.execute_input": "2022-02-27T15:25:00.797122Z",
     "iopub.status.busy": "2022-02-27T15:25:00.796468Z",
     "iopub.status.idle": "2022-02-27T15:25:00.801446Z",
     "shell.execute_reply": "2022-02-27T15:25:00.801875Z",
     "shell.execute_reply.started": "2022-02-27T15:01:45.732763Z"
    },
    "papermill": {
     "duration": 0.196329,
     "end_time": "2022-02-27T15:25:00.802051",
     "exception": false,
     "start_time": "2022-02-27T15:25:00.605722",
     "status": "completed"
    },
    "tags": []
   },
   "outputs": [
    {
     "data": {
      "text/plain": [
       "\"from sklearn.impute import SimpleImputer\\nimputer = SimpleImputer(missing_values=np.nan, strategy='median')\\nimputer = imputer.fit(test_data)\\nx = imputer.transform(test_data)\""
      ]
     },
     "execution_count": 54,
     "metadata": {},
     "output_type": "execute_result"
    }
   ],
   "source": [
    "\"\"\"from sklearn.impute import SimpleImputer\n",
    "imputer = SimpleImputer(missing_values=np.nan, strategy='median')\n",
    "imputer = imputer.fit(test_data)\n",
    "x = imputer.transform(test_data)\"\"\""
   ]
  },
  {
   "cell_type": "code",
   "execution_count": 55,
   "id": "c6d0345e",
   "metadata": {
    "execution": {
     "iopub.execute_input": "2022-02-27T15:25:01.184165Z",
     "iopub.status.busy": "2022-02-27T15:25:01.183502Z",
     "iopub.status.idle": "2022-02-27T15:25:01.201593Z",
     "shell.execute_reply": "2022-02-27T15:25:01.202061Z",
     "shell.execute_reply.started": "2022-02-27T15:01:45.733998Z"
    },
    "papermill": {
     "duration": 0.209229,
     "end_time": "2022-02-27T15:25:01.202230",
     "exception": false,
     "start_time": "2022-02-27T15:25:00.993001",
     "status": "completed"
    },
    "tags": []
   },
   "outputs": [
    {
     "name": "stderr",
     "output_type": "stream",
     "text": [
      "/opt/conda/lib/python3.7/site-packages/ipykernel_launcher.py:1: SettingWithCopyWarning: \n",
      "A value is trying to be set on a copy of a slice from a DataFrame.\n",
      "Try using .loc[row_indexer,col_indexer] = value instead\n",
      "\n",
      "See the caveats in the documentation: https://pandas.pydata.org/pandas-docs/stable/user_guide/indexing.html#returning-a-view-versus-a-copy\n",
      "  \"\"\"Entry point for launching an IPython kernel.\n",
      "/opt/conda/lib/python3.7/site-packages/ipykernel_launcher.py:2: SettingWithCopyWarning: \n",
      "A value is trying to be set on a copy of a slice from a DataFrame.\n",
      "Try using .loc[row_indexer,col_indexer] = value instead\n",
      "\n",
      "See the caveats in the documentation: https://pandas.pydata.org/pandas-docs/stable/user_guide/indexing.html#returning-a-view-versus-a-copy\n",
      "  \n",
      "/opt/conda/lib/python3.7/site-packages/ipykernel_launcher.py:3: SettingWithCopyWarning: \n",
      "A value is trying to be set on a copy of a slice from a DataFrame.\n",
      "Try using .loc[row_indexer,col_indexer] = value instead\n",
      "\n",
      "See the caveats in the documentation: https://pandas.pydata.org/pandas-docs/stable/user_guide/indexing.html#returning-a-view-versus-a-copy\n",
      "  This is separate from the ipykernel package so we can avoid doing imports until\n",
      "/opt/conda/lib/python3.7/site-packages/ipykernel_launcher.py:4: SettingWithCopyWarning: \n",
      "A value is trying to be set on a copy of a slice from a DataFrame.\n",
      "Try using .loc[row_indexer,col_indexer] = value instead\n",
      "\n",
      "See the caveats in the documentation: https://pandas.pydata.org/pandas-docs/stable/user_guide/indexing.html#returning-a-view-versus-a-copy\n",
      "  after removing the cwd from sys.path.\n",
      "/opt/conda/lib/python3.7/site-packages/ipykernel_launcher.py:5: SettingWithCopyWarning: \n",
      "A value is trying to be set on a copy of a slice from a DataFrame.\n",
      "Try using .loc[row_indexer,col_indexer] = value instead\n",
      "\n",
      "See the caveats in the documentation: https://pandas.pydata.org/pandas-docs/stable/user_guide/indexing.html#returning-a-view-versus-a-copy\n",
      "  \"\"\"\n",
      "/opt/conda/lib/python3.7/site-packages/ipykernel_launcher.py:6: SettingWithCopyWarning: \n",
      "A value is trying to be set on a copy of a slice from a DataFrame.\n",
      "Try using .loc[row_indexer,col_indexer] = value instead\n",
      "\n",
      "See the caveats in the documentation: https://pandas.pydata.org/pandas-docs/stable/user_guide/indexing.html#returning-a-view-versus-a-copy\n",
      "  \n",
      "/opt/conda/lib/python3.7/site-packages/ipykernel_launcher.py:7: SettingWithCopyWarning: \n",
      "A value is trying to be set on a copy of a slice from a DataFrame.\n",
      "Try using .loc[row_indexer,col_indexer] = value instead\n",
      "\n",
      "See the caveats in the documentation: https://pandas.pydata.org/pandas-docs/stable/user_guide/indexing.html#returning-a-view-versus-a-copy\n",
      "  import sys\n",
      "/opt/conda/lib/python3.7/site-packages/ipykernel_launcher.py:8: SettingWithCopyWarning: \n",
      "A value is trying to be set on a copy of a slice from a DataFrame.\n",
      "Try using .loc[row_indexer,col_indexer] = value instead\n",
      "\n",
      "See the caveats in the documentation: https://pandas.pydata.org/pandas-docs/stable/user_guide/indexing.html#returning-a-view-versus-a-copy\n",
      "  \n",
      "/opt/conda/lib/python3.7/site-packages/ipykernel_launcher.py:9: SettingWithCopyWarning: \n",
      "A value is trying to be set on a copy of a slice from a DataFrame.\n",
      "Try using .loc[row_indexer,col_indexer] = value instead\n",
      "\n",
      "See the caveats in the documentation: https://pandas.pydata.org/pandas-docs/stable/user_guide/indexing.html#returning-a-view-versus-a-copy\n",
      "  if __name__ == '__main__':\n",
      "/opt/conda/lib/python3.7/site-packages/ipykernel_launcher.py:10: SettingWithCopyWarning: \n",
      "A value is trying to be set on a copy of a slice from a DataFrame.\n",
      "Try using .loc[row_indexer,col_indexer] = value instead\n",
      "\n",
      "See the caveats in the documentation: https://pandas.pydata.org/pandas-docs/stable/user_guide/indexing.html#returning-a-view-versus-a-copy\n",
      "  # Remove the CWD from sys.path while we load stuff.\n",
      "/opt/conda/lib/python3.7/site-packages/ipykernel_launcher.py:11: SettingWithCopyWarning: \n",
      "A value is trying to be set on a copy of a slice from a DataFrame.\n",
      "Try using .loc[row_indexer,col_indexer] = value instead\n",
      "\n",
      "See the caveats in the documentation: https://pandas.pydata.org/pandas-docs/stable/user_guide/indexing.html#returning-a-view-versus-a-copy\n",
      "  # This is added back by InteractiveShellApp.init_path()\n",
      "/opt/conda/lib/python3.7/site-packages/ipykernel_launcher.py:12: SettingWithCopyWarning: \n",
      "A value is trying to be set on a copy of a slice from a DataFrame.\n",
      "Try using .loc[row_indexer,col_indexer] = value instead\n",
      "\n",
      "See the caveats in the documentation: https://pandas.pydata.org/pandas-docs/stable/user_guide/indexing.html#returning-a-view-versus-a-copy\n",
      "  if sys.path[0] == '':\n",
      "/opt/conda/lib/python3.7/site-packages/ipykernel_launcher.py:13: SettingWithCopyWarning: \n",
      "A value is trying to be set on a copy of a slice from a DataFrame.\n",
      "Try using .loc[row_indexer,col_indexer] = value instead\n",
      "\n",
      "See the caveats in the documentation: https://pandas.pydata.org/pandas-docs/stable/user_guide/indexing.html#returning-a-view-versus-a-copy\n",
      "  del sys.path[0]\n"
     ]
    }
   ],
   "source": [
    "test_data['LotFrontage'] = test_data['LotFrontage'].fillna(test_data['LotFrontage'].median())\n",
    "test_data['MasVnrArea'] = test_data['MasVnrArea'].fillna(test_data['MasVnrArea'].median())\n",
    "test_data['BsmtFinSF1'] = test_data['BsmtFinSF1'].fillna(test_data['BsmtFinSF1'].median())\n",
    "test_data['BsmtFinSF2'] = test_data['BsmtFinSF2'].fillna(test_data['BsmtFinSF2'].median())\n",
    "test_data['BsmtUnfSF'] = test_data['BsmtUnfSF'].fillna(test_data['BsmtUnfSF'].median())\n",
    "test_data['TotalBsmtSF'] = test_data['TotalBsmtSF'].fillna(test_data['TotalBsmtSF'].median())\n",
    "test_data['BsmtFullBath'] = test_data['BsmtFullBath'].fillna(test_data['BsmtFullBath'].median())\n",
    "test_data['BsmtHalfBath'] = test_data['BsmtHalfBath'].fillna(test_data['BsmtHalfBath'].median())\n",
    "test_data['KitchenQual'] = test_data['KitchenQual'].fillna(test_data['KitchenQual'].median())\n",
    "test_data['Functional'] = test_data['Functional'].fillna(test_data['Functional'].median())\n",
    "test_data['GarageYrBlt'] = test_data['GarageYrBlt'].fillna(test_data['GarageYrBlt'].median())\n",
    "test_data['GarageCars'] = test_data['GarageCars'].fillna(test_data['GarageCars'].median())\n",
    "test_data['GarageArea'] = test_data['GarageArea'].fillna(test_data['GarageArea'].median())"
   ]
  },
  {
   "cell_type": "code",
   "execution_count": 56,
   "id": "b3042957",
   "metadata": {
    "execution": {
     "iopub.execute_input": "2022-02-27T15:25:01.587118Z",
     "iopub.status.busy": "2022-02-27T15:25:01.586146Z",
     "iopub.status.idle": "2022-02-27T15:25:01.595339Z",
     "shell.execute_reply": "2022-02-27T15:25:01.594817Z",
     "shell.execute_reply.started": "2022-02-27T15:01:45.735901Z"
    },
    "papermill": {
     "duration": 0.205355,
     "end_time": "2022-02-27T15:25:01.595490",
     "exception": false,
     "start_time": "2022-02-27T15:25:01.390135",
     "status": "completed"
    },
    "tags": []
   },
   "outputs": [
    {
     "data": {
      "text/plain": [
       "MSSubClass       0\n",
       "LotFrontage      0\n",
       "LotArea          0\n",
       "LotShape         0\n",
       "LandSlope        0\n",
       "OverallQual      0\n",
       "OverallCond      0\n",
       "YearBuilt        0\n",
       "YearRemodAdd     0\n",
       "MasVnrArea       0\n",
       "ExterQual        0\n",
       "ExterCond        0\n",
       "BsmtQual         0\n",
       "BsmtCond         0\n",
       "BsmtExposure     0\n",
       "BsmtFinType1     0\n",
       "BsmtFinSF1       0\n",
       "BsmtFinType2     0\n",
       "BsmtFinSF2       0\n",
       "BsmtUnfSF        0\n",
       "TotalBsmtSF      0\n",
       "HeatingQC        0\n",
       "1stFlrSF         0\n",
       "2ndFlrSF         0\n",
       "LowQualFinSF     0\n",
       "GrLivArea        0\n",
       "BsmtFullBath     0\n",
       "BsmtHalfBath     0\n",
       "FullBath         0\n",
       "HalfBath         0\n",
       "BedroomAbvGr     0\n",
       "KitchenAbvGr     0\n",
       "KitchenQual      0\n",
       "TotRmsAbvGrd     0\n",
       "Functional       0\n",
       "Fireplaces       0\n",
       "FireplaceQu      0\n",
       "GarageYrBlt      0\n",
       "GarageFinish     0\n",
       "GarageCars       0\n",
       "GarageArea       0\n",
       "GarageQual       0\n",
       "GarageCond       0\n",
       "WoodDeckSF       0\n",
       "OpenPorchSF      0\n",
       "EnclosedPorch    0\n",
       "3SsnPorch        0\n",
       "ScreenPorch      0\n",
       "PoolArea         0\n",
       "PoolQC           0\n",
       "Fence            0\n",
       "MiscVal          0\n",
       "MoSold           0\n",
       "YrSold           0\n",
       "dtype: int64"
      ]
     },
     "execution_count": 56,
     "metadata": {},
     "output_type": "execute_result"
    }
   ],
   "source": [
    "test_data.isnull().sum()"
   ]
  },
  {
   "cell_type": "markdown",
   "id": "157c0963",
   "metadata": {
    "papermill": {
     "duration": 0.190848,
     "end_time": "2022-02-27T15:25:01.982365",
     "exception": false,
     "start_time": "2022-02-27T15:25:01.791517",
     "status": "completed"
    },
    "tags": []
   },
   "source": [
    "# Before we start to predict from test data, let's train our selected model (SVR) on all the train data (before splitting)"
   ]
  },
  {
   "cell_type": "code",
   "execution_count": 57,
   "id": "0c980c88",
   "metadata": {
    "execution": {
     "iopub.execute_input": "2022-02-27T15:25:02.366885Z",
     "iopub.status.busy": "2022-02-27T15:25:02.365937Z",
     "iopub.status.idle": "2022-02-27T15:25:02.370158Z",
     "shell.execute_reply": "2022-02-27T15:25:02.370704Z",
     "shell.execute_reply.started": "2022-02-27T15:01:45.737544Z"
    },
    "papermill": {
     "duration": 0.199731,
     "end_time": "2022-02-27T15:25:02.370875",
     "exception": false,
     "start_time": "2022-02-27T15:25:02.171144",
     "status": "completed"
    },
    "tags": []
   },
   "outputs": [],
   "source": [
    "train_y_l = np.log1p(train_y)"
   ]
  },
  {
   "cell_type": "code",
   "execution_count": 58,
   "id": "a6a474d0",
   "metadata": {
    "execution": {
     "iopub.execute_input": "2022-02-27T15:25:02.758463Z",
     "iopub.status.busy": "2022-02-27T15:25:02.757377Z",
     "iopub.status.idle": "2022-02-27T15:25:02.766592Z",
     "shell.execute_reply": "2022-02-27T15:25:02.767139Z",
     "shell.execute_reply.started": "2022-02-27T15:01:45.739253Z"
    },
    "papermill": {
     "duration": 0.203005,
     "end_time": "2022-02-27T15:25:02.767338",
     "exception": false,
     "start_time": "2022-02-27T15:25:02.564333",
     "status": "completed"
    },
    "tags": []
   },
   "outputs": [
    {
     "data": {
      "text/html": [
       "<div>\n",
       "<style scoped>\n",
       "    .dataframe tbody tr th:only-of-type {\n",
       "        vertical-align: middle;\n",
       "    }\n",
       "\n",
       "    .dataframe tbody tr th {\n",
       "        vertical-align: top;\n",
       "    }\n",
       "\n",
       "    .dataframe thead th {\n",
       "        text-align: right;\n",
       "    }\n",
       "</style>\n",
       "<table border=\"1\" class=\"dataframe\">\n",
       "  <thead>\n",
       "    <tr style=\"text-align: right;\">\n",
       "      <th></th>\n",
       "      <th>SalePrice</th>\n",
       "    </tr>\n",
       "  </thead>\n",
       "  <tbody>\n",
       "    <tr>\n",
       "      <th>892</th>\n",
       "      <td>154500</td>\n",
       "    </tr>\n",
       "    <tr>\n",
       "      <th>1105</th>\n",
       "      <td>325000</td>\n",
       "    </tr>\n",
       "    <tr>\n",
       "      <th>413</th>\n",
       "      <td>115000</td>\n",
       "    </tr>\n",
       "  </tbody>\n",
       "</table>\n",
       "</div>"
      ],
      "text/plain": [
       "      SalePrice\n",
       "892      154500\n",
       "1105     325000\n",
       "413      115000"
      ]
     },
     "execution_count": 58,
     "metadata": {},
     "output_type": "execute_result"
    }
   ],
   "source": [
    "pd.DataFrame(train_y).head(3)"
   ]
  },
  {
   "cell_type": "code",
   "execution_count": 59,
   "id": "2fb4dc49",
   "metadata": {
    "execution": {
     "iopub.execute_input": "2022-02-27T15:25:03.155055Z",
     "iopub.status.busy": "2022-02-27T15:25:03.154017Z",
     "iopub.status.idle": "2022-02-27T15:25:03.163559Z",
     "shell.execute_reply": "2022-02-27T15:25:03.164101Z",
     "shell.execute_reply.started": "2022-02-27T15:01:45.740826Z"
    },
    "papermill": {
     "duration": 0.205869,
     "end_time": "2022-02-27T15:25:03.164281",
     "exception": false,
     "start_time": "2022-02-27T15:25:02.958412",
     "status": "completed"
    },
    "tags": []
   },
   "outputs": [
    {
     "data": {
      "text/html": [
       "<div>\n",
       "<style scoped>\n",
       "    .dataframe tbody tr th:only-of-type {\n",
       "        vertical-align: middle;\n",
       "    }\n",
       "\n",
       "    .dataframe tbody tr th {\n",
       "        vertical-align: top;\n",
       "    }\n",
       "\n",
       "    .dataframe thead th {\n",
       "        text-align: right;\n",
       "    }\n",
       "</style>\n",
       "<table border=\"1\" class=\"dataframe\">\n",
       "  <thead>\n",
       "    <tr style=\"text-align: right;\">\n",
       "      <th></th>\n",
       "      <th>SalePrice</th>\n",
       "    </tr>\n",
       "  </thead>\n",
       "  <tbody>\n",
       "    <tr>\n",
       "      <th>892</th>\n",
       "      <td>11.947956</td>\n",
       "    </tr>\n",
       "    <tr>\n",
       "      <th>1105</th>\n",
       "      <td>12.691584</td>\n",
       "    </tr>\n",
       "    <tr>\n",
       "      <th>413</th>\n",
       "      <td>11.652696</td>\n",
       "    </tr>\n",
       "  </tbody>\n",
       "</table>\n",
       "</div>"
      ],
      "text/plain": [
       "      SalePrice\n",
       "892   11.947956\n",
       "1105  12.691584\n",
       "413   11.652696"
      ]
     },
     "execution_count": 59,
     "metadata": {},
     "output_type": "execute_result"
    }
   ],
   "source": [
    "pd.DataFrame(train_y_l).head(3)"
   ]
  },
  {
   "cell_type": "code",
   "execution_count": 60,
   "id": "4fa2ec2e",
   "metadata": {
    "execution": {
     "iopub.execute_input": "2022-02-27T15:25:03.588204Z",
     "iopub.status.busy": "2022-02-27T15:25:03.587210Z",
     "iopub.status.idle": "2022-02-27T15:25:07.236220Z",
     "shell.execute_reply": "2022-02-27T15:25:07.235366Z",
     "shell.execute_reply.started": "2022-02-27T15:01:45.742312Z"
    },
    "papermill": {
     "duration": 3.882619,
     "end_time": "2022-02-27T15:25:07.236431",
     "exception": false,
     "start_time": "2022-02-27T15:25:03.353812",
     "status": "completed"
    },
    "tags": []
   },
   "outputs": [
    {
     "name": "stdout",
     "output_type": "stream",
     "text": [
      "Score for train 0.8634374782440037\n",
      "Score for train 0.2100590055768653\n"
     ]
    }
   ],
   "source": [
    "svr_final = SVR(kernel = 'linear' , C =1)\n",
    "svr_final.fit(train_x , train_y_l)\n",
    "\n",
    "svr_pr_final = np.expm1(svr_final.predict(train_x))\n",
    "\n",
    "print('Score for train', svr_final.score(train_x , train_y_l))\n",
    "print('Score for train',r2_score(train_y,svr_pr_final))"
   ]
  },
  {
   "cell_type": "code",
   "execution_count": 61,
   "id": "198aa8fa",
   "metadata": {
    "execution": {
     "iopub.execute_input": "2022-02-27T15:25:07.627908Z",
     "iopub.status.busy": "2022-02-27T15:25:07.627274Z",
     "iopub.status.idle": "2022-02-27T15:25:07.665169Z",
     "shell.execute_reply": "2022-02-27T15:25:07.666259Z",
     "shell.execute_reply.started": "2022-02-27T15:01:45.743776Z"
    },
    "papermill": {
     "duration": 0.235633,
     "end_time": "2022-02-27T15:25:07.666568",
     "exception": false,
     "start_time": "2022-02-27T15:25:07.430935",
     "status": "completed"
    },
    "tags": []
   },
   "outputs": [
    {
     "name": "stdout",
     "output_type": "stream",
     "text": [
      "Score train 0.8131999016681514\n"
     ]
    }
   ],
   "source": [
    "la_final = Lasso(alpha=0.001)\n",
    "la_final.fit(train_x , train_y_l)\n",
    "\n",
    "pr7 = np.expm1(la_final.predict(train_x))\n",
    "\n",
    "print('Score train', r2_score(train_y,pr7))"
   ]
  },
  {
   "cell_type": "code",
   "execution_count": 62,
   "id": "c5471b0c",
   "metadata": {
    "execution": {
     "iopub.execute_input": "2022-02-27T15:25:08.141764Z",
     "iopub.status.busy": "2022-02-27T15:25:08.140366Z",
     "iopub.status.idle": "2022-02-27T15:25:08.148802Z",
     "shell.execute_reply": "2022-02-27T15:25:08.149761Z",
     "shell.execute_reply.started": "2022-02-27T15:01:45.746132Z"
    },
    "papermill": {
     "duration": 0.210156,
     "end_time": "2022-02-27T15:25:08.150031",
     "exception": false,
     "start_time": "2022-02-27T15:25:07.939875",
     "status": "completed"
    },
    "tags": []
   },
   "outputs": [
    {
     "name": "stdout",
     "output_type": "stream",
     "text": [
      "Score train 0.8179170087917603\n"
     ]
    }
   ],
   "source": [
    "Ridge_final = Ridge(alpha=1)\n",
    "Ridge_final.fit(train_x , train_y_l)\n",
    "\n",
    "pr8 = np.expm1(Ridge_final.predict(train_x))\n",
    "\n",
    "print('Score train', r2_score(train_y,pr8))"
   ]
  },
  {
   "cell_type": "code",
   "execution_count": 63,
   "id": "dc658937",
   "metadata": {
    "execution": {
     "iopub.execute_input": "2022-02-27T15:25:08.597544Z",
     "iopub.status.busy": "2022-02-27T15:25:08.596519Z",
     "iopub.status.idle": "2022-02-27T15:25:08.604073Z",
     "shell.execute_reply": "2022-02-27T15:25:08.603513Z",
     "shell.execute_reply.started": "2022-02-27T15:01:45.747674Z"
    },
    "papermill": {
     "duration": 0.208607,
     "end_time": "2022-02-27T15:25:08.604220",
     "exception": false,
     "start_time": "2022-02-27T15:25:08.395613",
     "status": "completed"
    },
    "tags": []
   },
   "outputs": [],
   "source": [
    "test_data = scaler.fit_transform(test_data)"
   ]
  },
  {
   "cell_type": "code",
   "execution_count": 64,
   "id": "87386a91",
   "metadata": {
    "execution": {
     "iopub.execute_input": "2022-02-27T15:25:08.998434Z",
     "iopub.status.busy": "2022-02-27T15:25:08.997258Z",
     "iopub.status.idle": "2022-02-27T15:25:09.002190Z",
     "shell.execute_reply": "2022-02-27T15:25:09.001083Z",
     "shell.execute_reply.started": "2022-02-27T15:01:45.749431Z"
    },
    "papermill": {
     "duration": 0.206651,
     "end_time": "2022-02-27T15:25:09.002468",
     "exception": false,
     "start_time": "2022-02-27T15:25:08.795817",
     "status": "completed"
    },
    "tags": []
   },
   "outputs": [],
   "source": [
    "final = np.expm1(Ridge_final.predict(test_data))"
   ]
  },
  {
   "cell_type": "code",
   "execution_count": 65,
   "id": "a488e315",
   "metadata": {
    "execution": {
     "iopub.execute_input": "2022-02-27T15:25:09.450838Z",
     "iopub.status.busy": "2022-02-27T15:25:09.446804Z",
     "iopub.status.idle": "2022-02-27T15:25:09.454080Z",
     "shell.execute_reply": "2022-02-27T15:25:09.454628Z",
     "shell.execute_reply.started": "2022-02-27T15:01:45.751392Z"
    },
    "papermill": {
     "duration": 0.203434,
     "end_time": "2022-02-27T15:25:09.454812",
     "exception": false,
     "start_time": "2022-02-27T15:25:09.251378",
     "status": "completed"
    },
    "tags": []
   },
   "outputs": [
    {
     "data": {
      "text/html": [
       "<div>\n",
       "<style scoped>\n",
       "    .dataframe tbody tr th:only-of-type {\n",
       "        vertical-align: middle;\n",
       "    }\n",
       "\n",
       "    .dataframe tbody tr th {\n",
       "        vertical-align: top;\n",
       "    }\n",
       "\n",
       "    .dataframe thead th {\n",
       "        text-align: right;\n",
       "    }\n",
       "</style>\n",
       "<table border=\"1\" class=\"dataframe\">\n",
       "  <thead>\n",
       "    <tr style=\"text-align: right;\">\n",
       "      <th></th>\n",
       "      <th>0</th>\n",
       "    </tr>\n",
       "  </thead>\n",
       "  <tbody>\n",
       "    <tr>\n",
       "      <th>0</th>\n",
       "      <td>117550.985355</td>\n",
       "    </tr>\n",
       "    <tr>\n",
       "      <th>1</th>\n",
       "      <td>148606.981716</td>\n",
       "    </tr>\n",
       "    <tr>\n",
       "      <th>2</th>\n",
       "      <td>173591.832468</td>\n",
       "    </tr>\n",
       "    <tr>\n",
       "      <th>3</th>\n",
       "      <td>201253.555887</td>\n",
       "    </tr>\n",
       "    <tr>\n",
       "      <th>4</th>\n",
       "      <td>182283.209181</td>\n",
       "    </tr>\n",
       "    <tr>\n",
       "      <th>5</th>\n",
       "      <td>170929.905709</td>\n",
       "    </tr>\n",
       "    <tr>\n",
       "      <th>6</th>\n",
       "      <td>186368.076118</td>\n",
       "    </tr>\n",
       "    <tr>\n",
       "      <th>7</th>\n",
       "      <td>166007.216690</td>\n",
       "    </tr>\n",
       "    <tr>\n",
       "      <th>8</th>\n",
       "      <td>194867.537427</td>\n",
       "    </tr>\n",
       "    <tr>\n",
       "      <th>9</th>\n",
       "      <td>112652.479954</td>\n",
       "    </tr>\n",
       "    <tr>\n",
       "      <th>10</th>\n",
       "      <td>186673.386937</td>\n",
       "    </tr>\n",
       "    <tr>\n",
       "      <th>11</th>\n",
       "      <td>105222.125055</td>\n",
       "    </tr>\n",
       "    <tr>\n",
       "      <th>12</th>\n",
       "      <td>99582.305839</td>\n",
       "    </tr>\n",
       "    <tr>\n",
       "      <th>13</th>\n",
       "      <td>152562.049320</td>\n",
       "    </tr>\n",
       "    <tr>\n",
       "      <th>14</th>\n",
       "      <td>119251.224660</td>\n",
       "    </tr>\n",
       "    <tr>\n",
       "      <th>15</th>\n",
       "      <td>330942.543589</td>\n",
       "    </tr>\n",
       "    <tr>\n",
       "      <th>16</th>\n",
       "      <td>223952.015355</td>\n",
       "    </tr>\n",
       "    <tr>\n",
       "      <th>17</th>\n",
       "      <td>293541.461446</td>\n",
       "    </tr>\n",
       "    <tr>\n",
       "      <th>18</th>\n",
       "      <td>282894.773091</td>\n",
       "    </tr>\n",
       "    <tr>\n",
       "      <th>19</th>\n",
       "      <td>474825.332759</td>\n",
       "    </tr>\n",
       "  </tbody>\n",
       "</table>\n",
       "</div>"
      ],
      "text/plain": [
       "                0\n",
       "0   117550.985355\n",
       "1   148606.981716\n",
       "2   173591.832468\n",
       "3   201253.555887\n",
       "4   182283.209181\n",
       "5   170929.905709\n",
       "6   186368.076118\n",
       "7   166007.216690\n",
       "8   194867.537427\n",
       "9   112652.479954\n",
       "10  186673.386937\n",
       "11  105222.125055\n",
       "12   99582.305839\n",
       "13  152562.049320\n",
       "14  119251.224660\n",
       "15  330942.543589\n",
       "16  223952.015355\n",
       "17  293541.461446\n",
       "18  282894.773091\n",
       "19  474825.332759"
      ]
     },
     "execution_count": 65,
     "metadata": {},
     "output_type": "execute_result"
    }
   ],
   "source": [
    "pd.DataFrame(final).head(20)"
   ]
  },
  {
   "cell_type": "code",
   "execution_count": 66,
   "id": "5ee0611e",
   "metadata": {
    "execution": {
     "iopub.execute_input": "2022-02-27T15:25:09.844488Z",
     "iopub.status.busy": "2022-02-27T15:25:09.843501Z",
     "iopub.status.idle": "2022-02-27T15:25:09.848557Z",
     "shell.execute_reply": "2022-02-27T15:25:09.849078Z",
     "shell.execute_reply.started": "2022-02-27T15:01:45.75317Z"
    },
    "papermill": {
     "duration": 0.202897,
     "end_time": "2022-02-27T15:25:09.849259",
     "exception": false,
     "start_time": "2022-02-27T15:25:09.646362",
     "status": "completed"
    },
    "tags": []
   },
   "outputs": [],
   "source": [
    "sub = pd.DataFrame({'id':test_id, 'SalePrice':final})"
   ]
  },
  {
   "cell_type": "code",
   "execution_count": 67,
   "id": "e2a96808",
   "metadata": {
    "execution": {
     "iopub.execute_input": "2022-02-27T15:25:10.232143Z",
     "iopub.status.busy": "2022-02-27T15:25:10.231154Z",
     "iopub.status.idle": "2022-02-27T15:25:10.241866Z",
     "shell.execute_reply": "2022-02-27T15:25:10.242349Z",
     "shell.execute_reply.started": "2022-02-27T15:01:45.754797Z"
    },
    "papermill": {
     "duration": 0.204077,
     "end_time": "2022-02-27T15:25:10.242519",
     "exception": false,
     "start_time": "2022-02-27T15:25:10.038442",
     "status": "completed"
    },
    "tags": []
   },
   "outputs": [
    {
     "data": {
      "text/html": [
       "<div>\n",
       "<style scoped>\n",
       "    .dataframe tbody tr th:only-of-type {\n",
       "        vertical-align: middle;\n",
       "    }\n",
       "\n",
       "    .dataframe tbody tr th {\n",
       "        vertical-align: top;\n",
       "    }\n",
       "\n",
       "    .dataframe thead th {\n",
       "        text-align: right;\n",
       "    }\n",
       "</style>\n",
       "<table border=\"1\" class=\"dataframe\">\n",
       "  <thead>\n",
       "    <tr style=\"text-align: right;\">\n",
       "      <th></th>\n",
       "      <th>id</th>\n",
       "      <th>SalePrice</th>\n",
       "    </tr>\n",
       "  </thead>\n",
       "  <tbody>\n",
       "    <tr>\n",
       "      <th>0</th>\n",
       "      <td>1461</td>\n",
       "      <td>117550.985355</td>\n",
       "    </tr>\n",
       "    <tr>\n",
       "      <th>1</th>\n",
       "      <td>1462</td>\n",
       "      <td>148606.981716</td>\n",
       "    </tr>\n",
       "    <tr>\n",
       "      <th>2</th>\n",
       "      <td>1463</td>\n",
       "      <td>173591.832468</td>\n",
       "    </tr>\n",
       "    <tr>\n",
       "      <th>3</th>\n",
       "      <td>1464</td>\n",
       "      <td>201253.555887</td>\n",
       "    </tr>\n",
       "    <tr>\n",
       "      <th>4</th>\n",
       "      <td>1465</td>\n",
       "      <td>182283.209181</td>\n",
       "    </tr>\n",
       "    <tr>\n",
       "      <th>...</th>\n",
       "      <td>...</td>\n",
       "      <td>...</td>\n",
       "    </tr>\n",
       "    <tr>\n",
       "      <th>1454</th>\n",
       "      <td>2915</td>\n",
       "      <td>93507.989732</td>\n",
       "    </tr>\n",
       "    <tr>\n",
       "      <th>1455</th>\n",
       "      <td>2916</td>\n",
       "      <td>96415.592734</td>\n",
       "    </tr>\n",
       "    <tr>\n",
       "      <th>1456</th>\n",
       "      <td>2917</td>\n",
       "      <td>177624.287944</td>\n",
       "    </tr>\n",
       "    <tr>\n",
       "      <th>1457</th>\n",
       "      <td>2918</td>\n",
       "      <td>114175.422167</td>\n",
       "    </tr>\n",
       "    <tr>\n",
       "      <th>1458</th>\n",
       "      <td>2919</td>\n",
       "      <td>238483.486661</td>\n",
       "    </tr>\n",
       "  </tbody>\n",
       "</table>\n",
       "<p>1459 rows × 2 columns</p>\n",
       "</div>"
      ],
      "text/plain": [
       "        id      SalePrice\n",
       "0     1461  117550.985355\n",
       "1     1462  148606.981716\n",
       "2     1463  173591.832468\n",
       "3     1464  201253.555887\n",
       "4     1465  182283.209181\n",
       "...    ...            ...\n",
       "1454  2915   93507.989732\n",
       "1455  2916   96415.592734\n",
       "1456  2917  177624.287944\n",
       "1457  2918  114175.422167\n",
       "1458  2919  238483.486661\n",
       "\n",
       "[1459 rows x 2 columns]"
      ]
     },
     "execution_count": 67,
     "metadata": {},
     "output_type": "execute_result"
    }
   ],
   "source": [
    "sub"
   ]
  },
  {
   "cell_type": "code",
   "execution_count": 68,
   "id": "bbd46dce",
   "metadata": {
    "execution": {
     "iopub.execute_input": "2022-02-27T15:25:10.633638Z",
     "iopub.status.busy": "2022-02-27T15:25:10.632938Z",
     "iopub.status.idle": "2022-02-27T15:25:10.642348Z",
     "shell.execute_reply": "2022-02-27T15:25:10.642889Z",
     "shell.execute_reply.started": "2022-02-27T15:01:45.756502Z"
    },
    "papermill": {
     "duration": 0.211391,
     "end_time": "2022-02-27T15:25:10.643063",
     "exception": false,
     "start_time": "2022-02-27T15:25:10.431672",
     "status": "completed"
    },
    "tags": []
   },
   "outputs": [],
   "source": [
    "sub.to_csv('Submission.csv',index=False)"
   ]
  },
  {
   "cell_type": "code",
   "execution_count": 69,
   "id": "784f68b8",
   "metadata": {
    "execution": {
     "iopub.execute_input": "2022-02-27T15:25:11.037524Z",
     "iopub.status.busy": "2022-02-27T15:25:11.036731Z",
     "iopub.status.idle": "2022-02-27T15:25:11.039971Z",
     "shell.execute_reply": "2022-02-27T15:25:11.040417Z",
     "shell.execute_reply.started": "2022-02-27T15:01:45.758451Z"
    },
    "papermill": {
     "duration": 0.204273,
     "end_time": "2022-02-27T15:25:11.040583",
     "exception": false,
     "start_time": "2022-02-27T15:25:10.836310",
     "status": "completed"
    },
    "tags": []
   },
   "outputs": [
    {
     "data": {
      "text/html": [
       "<div>\n",
       "<style scoped>\n",
       "    .dataframe tbody tr th:only-of-type {\n",
       "        vertical-align: middle;\n",
       "    }\n",
       "\n",
       "    .dataframe tbody tr th {\n",
       "        vertical-align: top;\n",
       "    }\n",
       "\n",
       "    .dataframe thead th {\n",
       "        text-align: right;\n",
       "    }\n",
       "</style>\n",
       "<table border=\"1\" class=\"dataframe\">\n",
       "  <thead>\n",
       "    <tr style=\"text-align: right;\">\n",
       "      <th></th>\n",
       "      <th>id</th>\n",
       "      <th>SalePrice</th>\n",
       "    </tr>\n",
       "  </thead>\n",
       "  <tbody>\n",
       "    <tr>\n",
       "      <th>0</th>\n",
       "      <td>1461</td>\n",
       "      <td>117550.985355</td>\n",
       "    </tr>\n",
       "    <tr>\n",
       "      <th>1</th>\n",
       "      <td>1462</td>\n",
       "      <td>148606.981716</td>\n",
       "    </tr>\n",
       "    <tr>\n",
       "      <th>2</th>\n",
       "      <td>1463</td>\n",
       "      <td>173591.832468</td>\n",
       "    </tr>\n",
       "    <tr>\n",
       "      <th>3</th>\n",
       "      <td>1464</td>\n",
       "      <td>201253.555887</td>\n",
       "    </tr>\n",
       "    <tr>\n",
       "      <th>4</th>\n",
       "      <td>1465</td>\n",
       "      <td>182283.209181</td>\n",
       "    </tr>\n",
       "    <tr>\n",
       "      <th>5</th>\n",
       "      <td>1466</td>\n",
       "      <td>170929.905709</td>\n",
       "    </tr>\n",
       "    <tr>\n",
       "      <th>6</th>\n",
       "      <td>1467</td>\n",
       "      <td>186368.076118</td>\n",
       "    </tr>\n",
       "    <tr>\n",
       "      <th>7</th>\n",
       "      <td>1468</td>\n",
       "      <td>166007.216690</td>\n",
       "    </tr>\n",
       "    <tr>\n",
       "      <th>8</th>\n",
       "      <td>1469</td>\n",
       "      <td>194867.537427</td>\n",
       "    </tr>\n",
       "    <tr>\n",
       "      <th>9</th>\n",
       "      <td>1470</td>\n",
       "      <td>112652.479954</td>\n",
       "    </tr>\n",
       "    <tr>\n",
       "      <th>10</th>\n",
       "      <td>1471</td>\n",
       "      <td>186673.386937</td>\n",
       "    </tr>\n",
       "    <tr>\n",
       "      <th>11</th>\n",
       "      <td>1472</td>\n",
       "      <td>105222.125055</td>\n",
       "    </tr>\n",
       "    <tr>\n",
       "      <th>12</th>\n",
       "      <td>1473</td>\n",
       "      <td>99582.305839</td>\n",
       "    </tr>\n",
       "    <tr>\n",
       "      <th>13</th>\n",
       "      <td>1474</td>\n",
       "      <td>152562.049320</td>\n",
       "    </tr>\n",
       "    <tr>\n",
       "      <th>14</th>\n",
       "      <td>1475</td>\n",
       "      <td>119251.224660</td>\n",
       "    </tr>\n",
       "    <tr>\n",
       "      <th>15</th>\n",
       "      <td>1476</td>\n",
       "      <td>330942.543589</td>\n",
       "    </tr>\n",
       "    <tr>\n",
       "      <th>16</th>\n",
       "      <td>1477</td>\n",
       "      <td>223952.015355</td>\n",
       "    </tr>\n",
       "    <tr>\n",
       "      <th>17</th>\n",
       "      <td>1478</td>\n",
       "      <td>293541.461446</td>\n",
       "    </tr>\n",
       "    <tr>\n",
       "      <th>18</th>\n",
       "      <td>1479</td>\n",
       "      <td>282894.773091</td>\n",
       "    </tr>\n",
       "    <tr>\n",
       "      <th>19</th>\n",
       "      <td>1480</td>\n",
       "      <td>474825.332759</td>\n",
       "    </tr>\n",
       "  </tbody>\n",
       "</table>\n",
       "</div>"
      ],
      "text/plain": [
       "      id      SalePrice\n",
       "0   1461  117550.985355\n",
       "1   1462  148606.981716\n",
       "2   1463  173591.832468\n",
       "3   1464  201253.555887\n",
       "4   1465  182283.209181\n",
       "5   1466  170929.905709\n",
       "6   1467  186368.076118\n",
       "7   1468  166007.216690\n",
       "8   1469  194867.537427\n",
       "9   1470  112652.479954\n",
       "10  1471  186673.386937\n",
       "11  1472  105222.125055\n",
       "12  1473   99582.305839\n",
       "13  1474  152562.049320\n",
       "14  1475  119251.224660\n",
       "15  1476  330942.543589\n",
       "16  1477  223952.015355\n",
       "17  1478  293541.461446\n",
       "18  1479  282894.773091\n",
       "19  1480  474825.332759"
      ]
     },
     "execution_count": 69,
     "metadata": {},
     "output_type": "execute_result"
    }
   ],
   "source": [
    "sub.head(20)"
   ]
  },
  {
   "cell_type": "code",
   "execution_count": null,
   "id": "cb887fe1",
   "metadata": {
    "papermill": {
     "duration": 0.193038,
     "end_time": "2022-02-27T15:25:11.427276",
     "exception": false,
     "start_time": "2022-02-27T15:25:11.234238",
     "status": "completed"
    },
    "tags": []
   },
   "outputs": [],
   "source": []
  },
  {
   "cell_type": "code",
   "execution_count": null,
   "id": "58a0efdc",
   "metadata": {
    "papermill": {
     "duration": 0.193623,
     "end_time": "2022-02-27T15:25:11.812644",
     "exception": false,
     "start_time": "2022-02-27T15:25:11.619021",
     "status": "completed"
    },
    "tags": []
   },
   "outputs": [],
   "source": []
  }
 ],
 "metadata": {
  "kernelspec": {
   "display_name": "Python 3",
   "language": "python",
   "name": "python3"
  },
  "language_info": {
   "codemirror_mode": {
    "name": "ipython",
    "version": 3
   },
   "file_extension": ".py",
   "mimetype": "text/x-python",
   "name": "python",
   "nbconvert_exporter": "python",
   "pygments_lexer": "ipython3",
   "version": "3.7.12"
  },
  "papermill": {
   "default_parameters": {},
   "duration": 53.933355,
   "end_time": "2022-02-27T15:25:14.842760",
   "environment_variables": {},
   "exception": null,
   "input_path": "__notebook__.ipynb",
   "output_path": "__notebook__.ipynb",
   "parameters": {},
   "start_time": "2022-02-27T15:24:20.909405",
   "version": "2.3.3"
  }
 },
 "nbformat": 4,
 "nbformat_minor": 5
}
